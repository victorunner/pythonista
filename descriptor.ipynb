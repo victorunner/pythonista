{
 "cells": [
  {
   "cell_type": "markdown",
   "metadata": {},
   "source": [
    "# Материалы:\n",
    "\n",
    "- [Luciano Ramalho - Decorators and descriptors decoded - PyCon 2017](https://youtu.be/81S01c9zytE)\n",
    "- https://realpython.com/python-descriptors/\n",
    "- https://docs.python.org/3/howto/descriptor.html"
   ]
  },
  {
   "cell_type": "code",
   "execution_count": 1,
   "metadata": {},
   "outputs": [
    {
     "name": "stdout",
     "output_type": "stream",
     "text": [
      "A\n",
      "B\n"
     ]
    }
   ],
   "source": [
    "class A:\n",
    "    print('A')\n",
    "    class B:\n",
    "        print('B')"
   ]
  },
  {
   "cell_type": "markdown",
   "metadata": {},
   "source": [
    "## Data vs non-data descriptor\n",
    "\n",
    "If your descriptor implements just `.__get__()`, then it’s said to be a `non-data descriptor`.\n",
    "\n",
    "If it implements `.__set__()` or `.__delete__()`, then it’s said to be a `data descriptor`. Note that this difference is not just about the name, but it’s also a difference in behavior.\n",
    "\n",
    "Data (= overriding) descriptor: всё через `__set__`, `__get__`.\n",
    "Non-data descriptor: `__get__`, если только нет в `__dict__`."
   ]
  },
  {
   "cell_type": "code",
   "execution_count": 2,
   "metadata": {},
   "outputs": [],
   "source": [
    "# data descriptor\n",
    "class A(object):\n",
    "   def __get__(self, obj, type):\n",
    "       print('hello from get A')\n",
    "   def __set__(self, obj, val):\n",
    "       print('hello from set A')\n",
    "\n",
    "# non-data descriptor\n",
    "class B(object):\n",
    "   def __get__(self, obj, type):\n",
    "       print('hello from get B')\n",
    "\n",
    "class C(object):\n",
    "   a = A()\n",
    "   b = B()"
   ]
  },
  {
   "cell_type": "code",
   "execution_count": 3,
   "metadata": {},
   "outputs": [
    {
     "name": "stdout",
     "output_type": "stream",
     "text": [
      "hello from get A\n",
      "hello from get B\n"
     ]
    },
    {
     "data": {
      "text/plain": [
       "(None, None)"
      ]
     },
     "execution_count": 3,
     "metadata": {},
     "output_type": "execute_result"
    }
   ],
   "source": [
    "c = C()\n",
    "c.a, c.b"
   ]
  },
  {
   "cell_type": "code",
   "execution_count": 4,
   "metadata": {},
   "outputs": [
    {
     "name": "stdout",
     "output_type": "stream",
     "text": [
      "hello from set A\n"
     ]
    }
   ],
   "source": [
    "c.a = 0"
   ]
  },
  {
   "cell_type": "code",
   "execution_count": 5,
   "metadata": {},
   "outputs": [
    {
     "name": "stdout",
     "output_type": "stream",
     "text": [
      "hello from get A\n"
     ]
    }
   ],
   "source": [
    "c.a  # A.__get__ is still called!"
   ]
  },
  {
   "cell_type": "code",
   "execution_count": 6,
   "metadata": {},
   "outputs": [],
   "source": [
    "c.b = 0"
   ]
  },
  {
   "cell_type": "code",
   "execution_count": 7,
   "metadata": {},
   "outputs": [
    {
     "data": {
      "text/plain": [
       "0"
      ]
     },
     "execution_count": 7,
     "metadata": {},
     "output_type": "execute_result"
    }
   ],
   "source": [
    "c.b  # B.__get__ isn't called anymore"
   ]
  },
  {
   "cell_type": "markdown",
   "metadata": {},
   "source": [
    "## Example\n",
    "\n",
    "https://docs.python.org/3/howto/descriptor.html"
   ]
  },
  {
   "cell_type": "code",
   "execution_count": 8,
   "metadata": {},
   "outputs": [
    {
     "ename": "AttributeError",
     "evalue": "'NoneType' object has no attribute '_kind'",
     "output_type": "error",
     "traceback": [
      "\u001b[0;31m---------------------------------------------------------------------------\u001b[0m",
      "\u001b[0;31mAttributeError\u001b[0m                            Traceback (most recent call last)",
      "\u001b[1;32m/home/victor/Dev/pythonista/descriptor.ipynb Cell 11\u001b[0m in \u001b[0;36m<cell line: 37>\u001b[0;34m()\u001b[0m\n\u001b[1;32m     <a href='vscode-notebook-cell:/home/victor/Dev/pythonista/descriptor.ipynb#X13sZmlsZQ%3D%3D?line=34'>35</a>\u001b[0m c \u001b[39m=\u001b[39m Component(\u001b[39m'\u001b[39m\u001b[39m'\u001b[39m, \u001b[39m'\u001b[39m\u001b[39mwood\u001b[39m\u001b[39m'\u001b[39m, \u001b[39m0\u001b[39m)\n\u001b[1;32m     <a href='vscode-notebook-cell:/home/victor/Dev/pythonista/descriptor.ipynb#X13sZmlsZQ%3D%3D?line=35'>36</a>\u001b[0m c\u001b[39m.\u001b[39mkind\n\u001b[0;32m---> <a href='vscode-notebook-cell:/home/victor/Dev/pythonista/descriptor.ipynb#X13sZmlsZQ%3D%3D?line=36'>37</a>\u001b[0m Component\u001b[39m.\u001b[39;49mkind\n",
      "\u001b[1;32m/home/victor/Dev/pythonista/descriptor.ipynb Cell 11\u001b[0m in \u001b[0;36mValidator.__get__\u001b[0;34m(self, obj, objtype)\u001b[0m\n\u001b[1;32m      <a href='vscode-notebook-cell:/home/victor/Dev/pythonista/descriptor.ipynb#X13sZmlsZQ%3D%3D?line=6'>7</a>\u001b[0m \u001b[39mdef\u001b[39;00m \u001b[39m__get__\u001b[39m(\u001b[39mself\u001b[39m, obj, objtype\u001b[39m=\u001b[39m\u001b[39mNone\u001b[39;00m):\n\u001b[0;32m----> <a href='vscode-notebook-cell:/home/victor/Dev/pythonista/descriptor.ipynb#X13sZmlsZQ%3D%3D?line=7'>8</a>\u001b[0m     \u001b[39mreturn\u001b[39;00m \u001b[39mgetattr\u001b[39;49m(obj, \u001b[39mself\u001b[39;49m\u001b[39m.\u001b[39;49mprivate_name)\n",
      "\u001b[0;31mAttributeError\u001b[0m: 'NoneType' object has no attribute '_kind'"
     ]
    }
   ],
   "source": [
    "from abc import ABC, abstractmethod\n",
    "\n",
    "class Validator(ABC):\n",
    "    def __set_name__(self, owner, name):\n",
    "        self.private_name = '_' + name\n",
    "\n",
    "    def __get__(self, obj, objtype=None):\n",
    "        return getattr(obj, self.private_name)\n",
    "\n",
    "    def __set__(self, obj, value):\n",
    "        self.validate(value)\n",
    "        setattr(obj, self.private_name, value)\n",
    "\n",
    "    @abstractmethod\n",
    "    def validate(self, value):\n",
    "        pass\n",
    "\n",
    "class OneOf(Validator):\n",
    "    def __init__(self, *options):\n",
    "        self.options = set(options)\n",
    "\n",
    "    def validate(self, value):\n",
    "        if value not in self.options:\n",
    "            raise ValueError(f'Expected {value!r} to be one of {self.options!r}')\n",
    "\n",
    "class Component:\n",
    "    kind = OneOf('wood', 'metal', 'plastic')\n",
    "    pass\n",
    "\n",
    "    def __init__(self, name, kind, quantity):\n",
    "        self.name = name\n",
    "        self.kind = kind\n",
    "        self.quantity = quantity\n",
    "\n",
    "c = Component('', 'wood', 0)\n",
    "c.kind\n",
    "Component.kind"
   ]
  },
  {
   "cell_type": "markdown",
   "metadata": {},
   "source": [
    "## Мой пример"
   ]
  },
  {
   "cell_type": "code",
   "execution_count": null,
   "metadata": {},
   "outputs": [],
   "source": [
    "from glom import glom\n",
    "\n",
    "\n",
    "class Param:\n",
    "    def __init__(self, path):\n",
    "        self.path = path\n",
    "\n",
    "    def __set_name__(self, owner, name):\n",
    "        self.coeff = owner.coeff\n",
    "        self.name = name\n",
    "\n",
    "    def __get__(self, obj, objtype=None):\n",
    "        if obj is None:\n",
    "            return self\n",
    "\n",
    "        val = glom(obj.data, tuple(self.path.split('.')))\n",
    "        # setattr(obj, self.name, val)\n",
    "\n",
    "        return val\n",
    "\n",
    "    # def __set__(self, obj, value) -> None:\n",
    "    #     pass\n",
    "\n",
    "    def __repr__(self):\n",
    "        return f\"Param('{self.path}')\"\n",
    "\n",
    "\n",
    "class Config:\n",
    "    a = Param('a')\n",
    "    b = Param('b.c')\n",
    "\n",
    "    coeff = 123\n",
    "\n",
    "    def __init__(self, data):\n",
    "        self.data = data\n",
    "    \n",
    "    def backup(self):\n",
    "        for a, v in Config.__dict__.items():\n",
    "            if isinstance(v, Param):\n",
    "                setattr(self, a, getattr(self, a))\n",
    "\n",
    "\n",
    "config = Config({\n",
    "    'a': 10,\n",
    "    'b': {'c': 20}\n",
    "})\n",
    "\n",
    "\n",
    "print(config.a, config.b)\n",
    "Config.a\n",
    "config.backup()\n",
    "print(config.a, config.b)"
   ]
  },
  {
   "cell_type": "code",
   "execution_count": null,
   "metadata": {},
   "outputs": [],
   "source": [
    "\n"
   ]
  }
 ],
 "metadata": {
  "kernelspec": {
   "display_name": "Python 3.10.4 ('pythonista-VO_1mNSx-py3.10')",
   "language": "python",
   "name": "python3"
  },
  "language_info": {
   "codemirror_mode": {
    "name": "ipython",
    "version": 3
   },
   "file_extension": ".py",
   "mimetype": "text/x-python",
   "name": "python",
   "nbconvert_exporter": "python",
   "pygments_lexer": "ipython3",
   "version": "3.10.4"
  },
  "orig_nbformat": 4,
  "vscode": {
   "interpreter": {
    "hash": "13feef28c11d17301e1dcc47b3a524333952f1cd4cd0d95479f68c7bbc83c133"
   }
  }
 },
 "nbformat": 4,
 "nbformat_minor": 2
}
