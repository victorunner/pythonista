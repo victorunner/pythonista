{
 "cells": [
  {
   "cell_type": "markdown",
   "metadata": {},
   "source": [
    "# Материалы\n",
    "\n",
    "- [Luciano Ramalho - Decorators and descriptors decoded - PyCon 2017](https://youtu.be/81S01c9zytE)\n",
    "- https://benmyers.dev/blog/scope/"
   ]
  },
  {
   "cell_type": "markdown",
   "metadata": {},
   "source": [
    "## Функция - объект"
   ]
  },
  {
   "cell_type": "code",
   "execution_count": 1,
   "metadata": {},
   "outputs": [],
   "source": [
    "def inc(val: int, delta: int) -> str:\n",
    "    \"\"\"My func\"\"\"\n",
    "    x = 10\n",
    "    return val + delta"
   ]
  },
  {
   "cell_type": "code",
   "execution_count": 2,
   "metadata": {},
   "outputs": [
    {
     "data": {
      "text/plain": [
       "'My func'"
      ]
     },
     "execution_count": 2,
     "metadata": {},
     "output_type": "execute_result"
    }
   ],
   "source": [
    "inc.__doc__"
   ]
  },
  {
   "cell_type": "code",
   "execution_count": 3,
   "metadata": {},
   "outputs": [
    {
     "data": {
      "text/plain": [
       "{'val': int, 'delta': int, 'return': str}"
      ]
     },
     "execution_count": 3,
     "metadata": {},
     "output_type": "execute_result"
    }
   ],
   "source": [
    "inc.__annotations__"
   ]
  },
  {
   "cell_type": "code",
   "execution_count": 4,
   "metadata": {},
   "outputs": [
    {
     "data": {
      "text/plain": [
       "('val', 'delta', 'x')"
      ]
     },
     "execution_count": 4,
     "metadata": {},
     "output_type": "execute_result"
    }
   ],
   "source": [
    "inc.__code__.co_varnames"
   ]
  },
  {
   "cell_type": "code",
   "execution_count": 5,
   "metadata": {},
   "outputs": [
    {
     "data": {
      "text/plain": [
       "<Parameter \"val: int\">"
      ]
     },
     "execution_count": 5,
     "metadata": {},
     "output_type": "execute_result"
    }
   ],
   "source": [
    "from inspect import signature\n",
    "param = signature(inc).parameters['val']\n",
    "param"
   ]
  },
  {
   "cell_type": "markdown",
   "metadata": {},
   "source": [
    "## Local vs global"
   ]
  },
  {
   "cell_type": "code",
   "execution_count": 6,
   "metadata": {},
   "outputs": [
    {
     "name": "stdout",
     "output_type": "stream",
     "text": [
      "3\n",
      "local variable 'b' referenced before assignment\n"
     ]
    }
   ],
   "source": [
    "b = 1\n",
    "def func(a):\n",
    "    print(a)\n",
    "    print(b)\n",
    "    b = 3  # assignment in local context => local var\n",
    "\n",
    "try:\n",
    "    func(3)\n",
    "except Exception as e:\n",
    "    print(e)"
   ]
  },
  {
   "cell_type": "code",
   "execution_count": 7,
   "metadata": {},
   "outputs": [
    {
     "name": "stdout",
     "output_type": "stream",
     "text": [
      "3\n",
      "1\n"
     ]
    }
   ],
   "source": [
    "b = 1\n",
    "def func(a):\n",
    "    global b\n",
    "    print(a)\n",
    "    print(b)\n",
    "    b = 3  # assignment in local contex => local var\n",
    "\n",
    "try:\n",
    "    func(3)\n",
    "except Exception as e:\n",
    "    print(e)"
   ]
  },
  {
   "cell_type": "markdown",
   "metadata": {},
   "source": [
    "## Closure"
   ]
  },
  {
   "cell_type": "code",
   "execution_count": 8,
   "metadata": {},
   "outputs": [
    {
     "name": "stdout",
     "output_type": "stream",
     "text": [
      "Ben\n"
     ]
    }
   ],
   "source": [
    "name = 'Ben'\n",
    "\n",
    "def print_name():\n",
    "    print(name)\n",
    "\n",
    "def set_name():\n",
    "\tname = 'Myers'\n",
    "\tprint_name()\n",
    "\n",
    "set_name()  # => `Ben` (NOT `Myers`)"
   ]
  },
  {
   "cell_type": "markdown",
   "metadata": {},
   "source": [
    "https://benmyers.dev/blog/scope/\n",
    "\n",
    "### Lexical scope (= static scope)\n",
    "\n",
    "`JavaScript` and other languages such as the `C family` and `Python` use **lexical scope**, also called **static scope**, which means that scope nests according to where functions and variables are declared. When they encounter a reference to a variable, lexically scoped languages ask \"Where was this written? Where was that written?\" and so forth until they find a variable declaration.\n",
    "\n",
    "In lexically scoped languages, variable references are predictable. For instance, name didn't change what it referred to based on whether logName was invoked in the global scope or inside setName. This predictability comes at the cost of more required overhead, generally handled at compile time.\n",
    "\n",
    "### Dynamic scope\n",
    "\n",
    "`Bash`, on the other hand, uses **dynamic scope**, where scope is nested based on the order of execution. Dynamic scope is handled at runtime, and tends to require a little less overhead than lexical scope. It comes at a high cost of unpredictability—the same line of code in a function could refer to two different things depending on where the function was invoked, and subprograms could have the potential to unwittingly overwrite your variables. It's for this reason that the field has largely moved to lexically scoped languages.\n",
    "\n",
    "### Closures\n",
    "\n",
    "A function's lexical environment is the set of all variables and functions that have been defined in the scope chain when the function is declared.\n",
    "\n",
    "This combination of a function and its lexical environment is called a closure."
   ]
  },
  {
   "cell_type": "markdown",
   "metadata": {},
   "source": [
    "### Класс производит instance, который ведет себя как функция"
   ]
  },
  {
   "cell_type": "code",
   "execution_count": 9,
   "metadata": {},
   "outputs": [
    {
     "data": {
      "text/plain": [
       "(10.0, 10.5, 11.0)"
      ]
     },
     "execution_count": 9,
     "metadata": {},
     "output_type": "execute_result"
    }
   ],
   "source": [
    "class Averager:\n",
    "    def __init__(self):\n",
    "        self.series = []\n",
    "    def __call__(self, new_value):\n",
    "        self.series.append(new_value)\n",
    "        return sum(self.series)/len(self.series)\n",
    "\n",
    "avg = Averager()\n",
    "avg(10), avg(11), avg(12)"
   ]
  },
  {
   "cell_type": "markdown",
   "metadata": {},
   "source": [
    "### Функция производит функцию\n",
    "\n",
    "Вызов `make_averager` -> new instance of averager with own `series` (это обеспечивает independent state).\n",
    "\n",
    "`series` - free variable\n",
    "\n",
    "\n",
    "https://stackoverflow.com/questions/12919278/how-to-define-free-variable-in-python"
   ]
  },
  {
   "cell_type": "code",
   "execution_count": 10,
   "metadata": {},
   "outputs": [
    {
     "data": {
      "text/plain": [
       "(10.0, 10.5, 11.0)"
      ]
     },
     "execution_count": 10,
     "metadata": {},
     "output_type": "execute_result"
    }
   ],
   "source": [
    "def make_averager():\n",
    "    series = []\n",
    "    def averager(new_value):\n",
    "        series.append(new_value)\n",
    "        total = len(series)\n",
    "        return sum(series)/total\n",
    "    return averager\n",
    "\n",
    "avg = make_averager()\n",
    "avg(10), avg(11), avg(12)"
   ]
  },
  {
   "cell_type": "code",
   "execution_count": 11,
   "metadata": {},
   "outputs": [
    {
     "data": {
      "text/plain": [
       "('new_value', 'total')"
      ]
     },
     "execution_count": 11,
     "metadata": {},
     "output_type": "execute_result"
    }
   ],
   "source": [
    "avg.__code__.co_varnames"
   ]
  },
  {
   "cell_type": "code",
   "execution_count": 12,
   "metadata": {},
   "outputs": [
    {
     "data": {
      "text/plain": [
       "('series',)"
      ]
     },
     "execution_count": 12,
     "metadata": {},
     "output_type": "execute_result"
    }
   ],
   "source": [
    "avg.__code__.co_freevars"
   ]
  },
  {
   "cell_type": "code",
   "execution_count": 13,
   "metadata": {},
   "outputs": [
    {
     "data": {
      "text/plain": [
       "[10, 11, 12]"
      ]
     },
     "execution_count": 13,
     "metadata": {},
     "output_type": "execute_result"
    }
   ],
   "source": [
    "avg.__closure__[0].cell_contents"
   ]
  },
  {
   "cell_type": "code",
   "execution_count": 14,
   "metadata": {},
   "outputs": [
    {
     "data": {
      "text/plain": [
       "[10, 11, 12, 13]"
      ]
     },
     "execution_count": 14,
     "metadata": {},
     "output_type": "execute_result"
    }
   ],
   "source": [
    "avg(13)\n",
    "avg.__closure__[0].cell_contents"
   ]
  },
  {
   "cell_type": "code",
   "execution_count": 15,
   "metadata": {},
   "outputs": [],
   "source": [
    "def outer():\n",
    "    f = []\n",
    "    def inner1():\n",
    "        f.append('1')\n",
    "        print(f)\n",
    "    def inner2():\n",
    "        f.append('10')\n",
    "        print(f)\n",
    "    inner1.x = inner2\n",
    "    return inner1, inner2\n"
   ]
  },
  {
   "cell_type": "code",
   "execution_count": 16,
   "metadata": {},
   "outputs": [],
   "source": [
    "in1, in2 = outer()"
   ]
  },
  {
   "cell_type": "code",
   "execution_count": 17,
   "metadata": {},
   "outputs": [
    {
     "name": "stdout",
     "output_type": "stream",
     "text": [
      "['1']\n"
     ]
    }
   ],
   "source": [
    "in1()"
   ]
  },
  {
   "cell_type": "code",
   "execution_count": 18,
   "metadata": {},
   "outputs": [
    {
     "name": "stdout",
     "output_type": "stream",
     "text": [
      "['1', '10']\n"
     ]
    }
   ],
   "source": [
    "in2()"
   ]
  },
  {
   "cell_type": "code",
   "execution_count": 19,
   "metadata": {},
   "outputs": [
    {
     "name": "stdout",
     "output_type": "stream",
     "text": [
      "['1', '10', '10']\n"
     ]
    }
   ],
   "source": [
    "in1.x()"
   ]
  },
  {
   "cell_type": "markdown",
   "metadata": {},
   "source": [
    "### nonlocal"
   ]
  },
  {
   "cell_type": "code",
   "execution_count": 20,
   "metadata": {},
   "outputs": [],
   "source": [
    "# Более эффективный способ\n",
    "def make_averager():\n",
    "    count = 0\n",
    "    total = 0\n",
    "    def averager(new_value):\n",
    "        count += 1\n",
    "        total += new_value\n",
    "        return total/count\n",
    "    return averager\n",
    "\n",
    "# avg = make_averager() => UnboundLocalError\n",
    "# assignment -> means local variable -> count = count (???) + 1 \n",
    "\n",
    "def make_averager():\n",
    "    count = 0\n",
    "    total = 0\n",
    "    def averager(new_value):\n",
    "        nonlocal count, total\n",
    "        count += 1\n",
    "        total += new_value\n",
    "        return total/count\n",
    "    return averager\n"
   ]
  }
 ],
 "metadata": {
  "kernelspec": {
   "display_name": "Python 3.10.4 ('pythonista-VO_1mNSx-py3.10')",
   "language": "python",
   "name": "python3"
  },
  "language_info": {
   "codemirror_mode": {
    "name": "ipython",
    "version": 3
   },
   "file_extension": ".py",
   "mimetype": "text/x-python",
   "name": "python",
   "nbconvert_exporter": "python",
   "pygments_lexer": "ipython3",
   "version": "3.10.4"
  },
  "orig_nbformat": 4,
  "vscode": {
   "interpreter": {
    "hash": "13feef28c11d17301e1dcc47b3a524333952f1cd4cd0d95479f68c7bbc83c133"
   }
  }
 },
 "nbformat": 4,
 "nbformat_minor": 2
}
