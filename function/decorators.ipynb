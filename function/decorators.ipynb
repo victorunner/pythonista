{
 "cells": [
  {
   "cell_type": "markdown",
   "metadata": {},
   "source": [
    "# Материалы\n",
    "\n",
    "- [Luciano Ramalho - Decorators and descriptors decoded - PyCon 2017](https://youtu.be/81S01c9zytE)\n",
    "\n",
    "Полезно (советы Luciano Ramalho):\n",
    "\n",
    "- @functools.wraps\n",
    "- https://wrapt.readthedocs.io/en/latest/\n",
    "- https://github.com/micheles/decorator"
   ]
  },
  {
   "cell_type": "code",
   "execution_count": 1,
   "metadata": {},
   "outputs": [],
   "source": [
    "import sys\n",
    "sys.path.append('/home/victor/Dev/pythonista/function/misc')"
   ]
  },
  {
   "cell_type": "markdown",
   "metadata": {},
   "source": [
    "# Декораторы"
   ]
  },
  {
   "cell_type": "markdown",
   "metadata": {},
   "source": [
    "## Важный \"синтаксический сахар\""
   ]
  },
  {
   "cell_type": "markdown",
   "metadata": {},
   "source": [
    "Это синтаксический сахар. Но важный! После длинной функции `square = deco(square)` можно не заметить.\n",
    "\n",
    "```python\n",
    "@deco\n",
    "def square(n):\n",
    "    return n*n\n",
    "```\n",
    "\n",
    "равносильно\n",
    "\n",
    "```python\n",
    "def square(n):\n",
    "    return n*n\n",
    "square = deco(square)\n",
    "```"
   ]
  },
  {
   "cell_type": "markdown",
   "metadata": {},
   "source": [
    "## Приоритет декораторов\n",
    "\n",
    "Ближний к `def` декорирует ее раньше."
   ]
  },
  {
   "cell_type": "markdown",
   "metadata": {},
   "source": [
    "## Декоратор возвращает ту же функцию или новую"
   ]
  },
  {
   "cell_type": "code",
   "execution_count": 2,
   "metadata": {},
   "outputs": [
    {
     "data": {
      "text/plain": [
       "'inner result'"
      ]
     },
     "execution_count": 2,
     "metadata": {},
     "output_type": "execute_result"
    }
   ],
   "source": [
    "def deco(f):\n",
    "    def inner():\n",
    "        return 'inner result'\n",
    "    return inner\n",
    "\n",
    "@deco\n",
    "def target():\n",
    "    return 'original result'\n",
    "\n",
    "target()"
   ]
  },
  {
   "cell_type": "code",
   "execution_count": 3,
   "metadata": {},
   "outputs": [
    {
     "data": {
      "text/plain": [
       "<function __main__.deco.<locals>.inner()>"
      ]
     },
     "execution_count": 3,
     "metadata": {},
     "output_type": "execute_result"
    }
   ],
   "source": [
    "target  # другая"
   ]
  },
  {
   "cell_type": "markdown",
   "metadata": {},
   "source": [
    "## Декорирование происходит во время импорта (at import time)\n",
    "\n",
    "Схожие ситуации:\n",
    "\n",
    "- декорирование (включая подмену функции и т.д.) происходит при импорте\n",
    "- блок внутри класса также запускается при импорте"
   ]
  },
  {
   "cell_type": "code",
   "execution_count": 4,
   "metadata": {},
   "outputs": [
    {
     "name": "stdout",
     "output_type": "stream",
     "text": [
      "registration.py\n",
      "running register\n",
      "running register\n",
      "running f2\n"
     ]
    }
   ],
   "source": [
    "import registration\n",
    "\n",
    "@registration.register\n",
    "def f2():\n",
    "    print('running f2')\n",
    "\n",
    "f2()"
   ]
  },
  {
   "cell_type": "markdown",
   "metadata": {},
   "source": [
    "## Простой декоратор"
   ]
  },
  {
   "cell_type": "code",
   "execution_count": 5,
   "metadata": {},
   "outputs": [],
   "source": [
    "from functools import wraps\n",
    "\n",
    "def floatify(f):\n",
    "    @wraps(f)  # decorator factory\n",
    "    def floated(n):\n",
    "        res = f(n)\n",
    "        return float(res)\n",
    "    return floated"
   ]
  },
  {
   "cell_type": "code",
   "execution_count": 6,
   "metadata": {},
   "outputs": [
    {
     "data": {
      "text/plain": [
       "<function __main__.square(n)>"
      ]
     },
     "execution_count": 6,
     "metadata": {},
     "output_type": "execute_result"
    }
   ],
   "source": [
    "@floatify\n",
    "def square(n):\n",
    "    return n*n\n",
    "\n",
    "square"
   ]
  },
  {
   "cell_type": "code",
   "execution_count": 7,
   "metadata": {},
   "outputs": [
    {
     "data": {
      "text/plain": [
       "25.0"
      ]
     },
     "execution_count": 7,
     "metadata": {},
     "output_type": "execute_result"
    }
   ],
   "source": [
    "square(5)"
   ]
  },
  {
   "cell_type": "markdown",
   "metadata": {},
   "source": [
    "## Декоратор с параметром\n",
    "\n",
    "Также, можно использовать class-based подход."
   ]
  },
  {
   "cell_type": "code",
   "execution_count": 8,
   "metadata": {},
   "outputs": [],
   "source": [
    "from functools import wraps\n",
    "\n",
    "def result_unit(unit='m'):\n",
    "    def decorate(func):\n",
    "        @wraps(func)\n",
    "        def inner(*args, **kwargs):\n",
    "            result = func(*args, **kwargs)\n",
    "            k = {'m': 1, 'cm': 100, 'mm': 1000}[unit]\n",
    "            return k*result\n",
    "        return inner \n",
    "    return decorate"
   ]
  },
  {
   "cell_type": "code",
   "execution_count": 9,
   "metadata": {},
   "outputs": [
    {
     "data": {
      "text/plain": [
       "'Returns 10 m.'"
      ]
     },
     "execution_count": 9,
     "metadata": {},
     "output_type": "execute_result"
    }
   ],
   "source": [
    "@result_unit('mm')\n",
    "def f():\n",
    "    \"\"\"Returns 10 m.\"\"\"\n",
    "    return 10  # m\n",
    "\n",
    "f.__doc__"
   ]
  },
  {
   "cell_type": "code",
   "execution_count": 10,
   "metadata": {},
   "outputs": [
    {
     "data": {
      "text/plain": [
       "10000"
      ]
     },
     "execution_count": 10,
     "metadata": {},
     "output_type": "execute_result"
    }
   ],
   "source": [
    "f()"
   ]
  }
 ],
 "metadata": {
  "kernelspec": {
   "display_name": "Python 3.10.4 ('pythonista-VO_1mNSx-py3.10')",
   "language": "python",
   "name": "python3"
  },
  "language_info": {
   "codemirror_mode": {
    "name": "ipython",
    "version": 3
   },
   "file_extension": ".py",
   "mimetype": "text/x-python",
   "name": "python",
   "nbconvert_exporter": "python",
   "pygments_lexer": "ipython3",
   "version": "3.10.4"
  },
  "orig_nbformat": 4,
  "vscode": {
   "interpreter": {
    "hash": "13feef28c11d17301e1dcc47b3a524333952f1cd4cd0d95479f68c7bbc83c133"
   }
  }
 },
 "nbformat": 4,
 "nbformat_minor": 2
}
