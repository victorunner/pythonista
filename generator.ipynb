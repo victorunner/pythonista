{
 "cells": [
  {
   "cell_type": "markdown",
   "metadata": {},
   "source": [
    "# Материалы\n",
    "\n",
    "- [Reuven M. Lerner - Generators, coroutines, and nanoservices || PyCon Africa 2020](https://youtu.be/tkoaeVS2zRQ)\n",
    "- https://realpython.com/introduction-to-python-generators/\n",
    "- [Curious Course on Coroutines and Concurrency (David Beazley)](https://youtu.be/Z_OAlIhXziw)\n",
    "- http://dabeaz.com/coroutines/Coroutines.pdf\n",
    "- https://stackoverflow.com/questions/9708902/in-practice-what-are-the-main-uses-for-the-yield-from-syntax-in-python-3-3\n",
    "- https://stackoverflow.com/questions/35518986/whats-the-difference-between-yield-from-and-yield-in-python-3-3-2"
   ]
  },
  {
   "cell_type": "markdown",
   "metadata": {},
   "source": [
    "Моя аналогия\n",
    "\n",
    "Грузовичок выезжает без груза (если `g = gen()`, то возможны только `g.send(None)` или `next(g)`), по дороге собирает груз.\n",
    "\n",
    "На 1-ой `yield`-остановке разгружает груз. Ждет загрузки (с помощью `send`)."
   ]
  },
  {
   "cell_type": "markdown",
   "metadata": {},
   "source": [
    "## Функция"
   ]
  },
  {
   "cell_type": "code",
   "execution_count": 1,
   "metadata": {},
   "outputs": [],
   "source": [
    "def myfunc():\n",
    "    return 1\n",
    "    return 2\n",
    "    return 3"
   ]
  },
  {
   "cell_type": "code",
   "execution_count": 2,
   "metadata": {},
   "outputs": [
    {
     "data": {
      "text/plain": [
       "<function __main__.myfunc()>"
      ]
     },
     "execution_count": 2,
     "metadata": {},
     "output_type": "execute_result"
    }
   ],
   "source": [
    "myfunc"
   ]
  },
  {
   "cell_type": "code",
   "execution_count": 3,
   "metadata": {},
   "outputs": [
    {
     "name": "stdout",
     "output_type": "stream",
     "text": [
      "  2           0 LOAD_CONST               1 (1)\n",
      "              2 RETURN_VALUE\n"
     ]
    }
   ],
   "source": [
    "import dis\n",
    "\n",
    "# Even Python compiler ignores return 2 return 3\n",
    "dis.dis(myfunc)  # => bytecodes from our function"
   ]
  },
  {
   "cell_type": "markdown",
   "metadata": {},
   "source": [
    "## Генератор (generator)\n",
    "\n",
    "`yield` turns function into `generator function`. When Python compiles your function it notices `yield` and tags the function as a `generator function`.\n",
    "\n",
    "generator_function() => generator (object)\n",
    "\n",
    "Calling a generator function creates an generator object. However, it does not start running the function.\n",
    "\n",
    "`yield` produces a value, but suspends the function"
   ]
  },
  {
   "cell_type": "code",
   "execution_count": 4,
   "metadata": {},
   "outputs": [],
   "source": [
    "def mygen():\n",
    "    print('Грузовичк выехал')\n",
    "    yield 1  # Прибыл в 1-ый yield-пункт, выгрузил 1, ждет next/send\n",
    "    yield 2\n",
    "    yield 3"
   ]
  },
  {
   "cell_type": "code",
   "execution_count": 5,
   "metadata": {},
   "outputs": [],
   "source": [
    "g = mygen()\n",
    "g2 = mygen()"
   ]
  },
  {
   "cell_type": "code",
   "execution_count": 6,
   "metadata": {},
   "outputs": [
    {
     "name": "stdout",
     "output_type": "stream",
     "text": [
      "Грузовичк выехал\n"
     ]
    },
    {
     "data": {
      "text/plain": [
       "1"
      ]
     },
     "execution_count": 6,
     "metadata": {},
     "output_type": "execute_result"
    }
   ],
   "source": [
    "next(g)"
   ]
  },
  {
   "cell_type": "code",
   "execution_count": 7,
   "metadata": {},
   "outputs": [
    {
     "data": {
      "text/plain": [
       "2"
      ]
     },
     "execution_count": 7,
     "metadata": {},
     "output_type": "execute_result"
    }
   ],
   "source": [
    "next(g)"
   ]
  },
  {
   "cell_type": "code",
   "execution_count": 8,
   "metadata": {},
   "outputs": [
    {
     "name": "stdout",
     "output_type": "stream",
     "text": [
      "Грузовичк выехал\n"
     ]
    },
    {
     "data": {
      "text/plain": [
       "1"
      ]
     },
     "execution_count": 8,
     "metadata": {},
     "output_type": "execute_result"
    }
   ],
   "source": [
    "next(g2)"
   ]
  },
  {
   "cell_type": "code",
   "execution_count": 9,
   "metadata": {},
   "outputs": [
    {
     "data": {
      "text/plain": [
       "3"
      ]
     },
     "execution_count": 9,
     "metadata": {},
     "output_type": "execute_result"
    }
   ],
   "source": [
    "next(g)"
   ]
  },
  {
   "cell_type": "code",
   "execution_count": 10,
   "metadata": {},
   "outputs": [],
   "source": [
    "# next(g)  # => StopIteration"
   ]
  },
  {
   "cell_type": "code",
   "execution_count": 11,
   "metadata": {},
   "outputs": [
    {
     "name": "stdout",
     "output_type": "stream",
     "text": [
      "Name:              mygen\n",
      "Filename:          /tmp/ipykernel_107508/3303880497.py\n",
      "Argument count:    0\n",
      "Positional-only arguments: 0\n",
      "Kw-only arguments: 0\n",
      "Number of locals:  0\n",
      "Stack size:        2\n",
      "Flags:             OPTIMIZED, NEWLOCALS, GENERATOR, NOFREE\n",
      "Constants:\n",
      "   0: None\n",
      "   1: 'Грузовичк выехал'\n",
      "   2: 1\n",
      "   3: 2\n",
      "   4: 3\n",
      "Names:\n",
      "   0: print\n"
     ]
    }
   ],
   "source": [
    "dis.show_code(mygen)  # Notice the flag GENERATOR!"
   ]
  },
  {
   "cell_type": "code",
   "execution_count": 12,
   "metadata": {},
   "outputs": [
    {
     "name": "stdout",
     "output_type": "stream",
     "text": [
      "              0 GEN_START                0\n",
      "\n",
      "  2           2 LOAD_GLOBAL              0 (print)\n",
      "              4 LOAD_CONST               1 ('Грузовичк выехал')\n",
      "              6 CALL_FUNCTION            1\n",
      "              8 POP_TOP\n",
      "\n",
      "  3          10 LOAD_CONST               2 (1)\n",
      "             12 YIELD_VALUE\n",
      "             14 POP_TOP\n",
      "\n",
      "  4          16 LOAD_CONST               3 (2)\n",
      "             18 YIELD_VALUE\n",
      "             20 POP_TOP\n",
      "\n",
      "  5          22 LOAD_CONST               4 (3)\n",
      "             24 YIELD_VALUE\n",
      "             26 POP_TOP\n",
      "             28 LOAD_CONST               0 (None)\n",
      "             30 RETURN_VALUE\n"
     ]
    }
   ],
   "source": [
    "dis.dis(mygen)  # три YIELD_VALUE (нет игнорирования!)"
   ]
  },
  {
   "cell_type": "markdown",
   "metadata": {},
   "source": [
    "## Generator expression/comprehension\n",
    "\n",
    "You can also define a `generator expression` (also called a `generator comprehension`),\n",
    "which has a very similar syntax to list comprehensions.\n",
    "\n",
    "Remember, list comprehensions return full lists, while generator expressions return generators.\n",
    "Generators work the same whether they’re built from a function or an expression.\n",
    "Using an expression just allows you to define simple generators in a single line,\n",
    "with an assumed yield at the end of each inner iteration."
   ]
  },
  {
   "cell_type": "code",
   "execution_count": 13,
   "metadata": {},
   "outputs": [],
   "source": [
    "# In this way, you can use the generator without calling a function:\n",
    "# csv_gen = (row for row in open(file_name))"
   ]
  },
  {
   "cell_type": "markdown",
   "metadata": {},
   "source": [
    "## Iterator protocol"
   ]
  },
  {
   "cell_type": "code",
   "execution_count": 14,
   "metadata": {},
   "outputs": [
    {
     "name": "stdout",
     "output_type": "stream",
     "text": [
      "a\n",
      "b\n",
      "c\n"
     ]
    }
   ],
   "source": [
    "for i in 'abc':\n",
    "    print(i)"
   ]
  },
  {
   "cell_type": "code",
   "execution_count": 15,
   "metadata": {},
   "outputs": [
    {
     "name": "stdout",
     "output_type": "stream",
     "text": [
      "Грузовичк выехал\n",
      "1\n",
      "2\n",
      "3\n"
     ]
    }
   ],
   "source": [
    "for i in mygen():\n",
    "    print(i)"
   ]
  },
  {
   "cell_type": "code",
   "execution_count": 16,
   "metadata": {},
   "outputs": [
    {
     "data": {
      "text/plain": [
       "<generator object mygen at 0x7fec9c27af80>"
      ]
     },
     "execution_count": 16,
     "metadata": {},
     "output_type": "execute_result"
    }
   ],
   "source": [
    "g = mygen()\n",
    "g"
   ]
  },
  {
   "cell_type": "code",
   "execution_count": 17,
   "metadata": {},
   "outputs": [
    {
     "data": {
      "text/plain": [
       "<generator object mygen at 0x7fec9c27af80>"
      ]
     },
     "execution_count": 17,
     "metadata": {},
     "output_type": "execute_result"
    }
   ],
   "source": [
    "iter(g)"
   ]
  },
  {
   "cell_type": "code",
   "execution_count": 18,
   "metadata": {},
   "outputs": [
    {
     "data": {
      "text/plain": [
       "True"
      ]
     },
     "execution_count": 18,
     "metadata": {},
     "output_type": "execute_result"
    }
   ],
   "source": [
    "g is iter(g)"
   ]
  },
  {
   "cell_type": "code",
   "execution_count": 19,
   "metadata": {},
   "outputs": [
    {
     "name": "stdout",
     "output_type": "stream",
     "text": [
      "Грузовичк выехал\n"
     ]
    },
    {
     "data": {
      "text/plain": [
       "(1, 2, 3)"
      ]
     },
     "execution_count": 19,
     "metadata": {},
     "output_type": "execute_result"
    }
   ],
   "source": [
    "next(g), next(g), next(g)"
   ]
  },
  {
   "cell_type": "code",
   "execution_count": 20,
   "metadata": {},
   "outputs": [
    {
     "name": "stdout",
     "output_type": "stream",
     "text": [
      "<class 'StopIteration'>\n"
     ]
    }
   ],
   "source": [
    "try:\n",
    "    next(g)\n",
    "except StopIteration as e:\n",
    "    print(type(e))"
   ]
  },
  {
   "cell_type": "markdown",
   "metadata": {},
   "source": [
    "## Generators as Pipelines\n",
    "\n",
    "- One of the most powerful applications of generators is setting up processing pipelines\n",
    "- Similar to shell pipes in Unix\n",
    "- Idea: You can stack a series of generator functions together into a pipe and pull items through it with a for-loop\n",
    "\n",
    "`input sequence -> [generator] -> [generator] -> [generator] -> for x in s:`"
   ]
  },
  {
   "cell_type": "code",
   "execution_count": 21,
   "metadata": {},
   "outputs": [],
   "source": [
    "def even_filter(nums):\n",
    "    for num in nums:\n",
    "        if num % 2 == 0:\n",
    "            yield num\n",
    "\n",
    "def multiply_by_three(nums):\n",
    "    for num in nums:\n",
    "        yield num * 3\n",
    "\n",
    "def convert_to_string(nums):\n",
    "    for num in nums:\n",
    "        yield f'The Number: {num}'"
   ]
  },
  {
   "cell_type": "code",
   "execution_count": 22,
   "metadata": {},
   "outputs": [
    {
     "name": "stdout",
     "output_type": "stream",
     "text": [
      "The Number: 6\n",
      "The Number: 12\n",
      "The Number: 18\n",
      "The Number: 24\n",
      "The Number: 30\n"
     ]
    }
   ],
   "source": [
    "nums = [1, 2, 3, 4, 5, 6, 7, 8, 9, 10]\n",
    "pipeline = convert_to_string(multiply_by_three(even_filter(nums)))\n",
    "for num in pipeline:\n",
    "    print(num)"
   ]
  },
  {
   "cell_type": "code",
   "execution_count": 23,
   "metadata": {},
   "outputs": [],
   "source": [
    "# file_name = 'techcrunch.csv'\n",
    "# lines = (line for line in open(file_name))\n",
    "# list_line = (s.rstrip().split(',') for s in lines)\n",
    "# cols = next(list_line)\n",
    "# company_dicts = (dict(zip(cols, data)) for data in list_line)\n",
    "# funding = (\n",
    "#     int(company_dict['raisedAmt'])\n",
    "#     for company_dict in company_dicts\n",
    "#     if company_dict['round'] == 'a'\n",
    "# )\n",
    "# total_series_a = sum(funding)\n",
    "# print(f'Total series A fundraising: ${total_series_a}')"
   ]
  },
  {
   "cell_type": "code",
   "execution_count": 24,
   "metadata": {},
   "outputs": [
    {
     "data": {
      "text/plain": [
       "[1, 3]"
      ]
     },
     "execution_count": 24,
     "metadata": {},
     "output_type": "execute_result"
    }
   ],
   "source": [
    "# мой пример\n",
    "def gf1():\n",
    "    yield 1\n",
    "    yield 2\n",
    "    yield 3\n",
    "\n",
    "def gf2(g):\n",
    "    for n in g:\n",
    "        if n % 2:\n",
    "            yield n\n",
    "\n",
    "list(gf2(gf1()))"
   ]
  },
  {
   "cell_type": "code",
   "execution_count": 25,
   "metadata": {},
   "outputs": [
    {
     "data": {
      "text/plain": [
       "[7, 9]"
      ]
     },
     "execution_count": 25,
     "metadata": {},
     "output_type": "execute_result"
    }
   ],
   "source": [
    "list(gf2(x for x in [7, 8, 9, 10]))"
   ]
  },
  {
   "cell_type": "code",
   "execution_count": 26,
   "metadata": {},
   "outputs": [
    {
     "data": {
      "text/plain": [
       "['-1-', '-9-', '-25-', '-49-', '-81-']"
      ]
     },
     "execution_count": 26,
     "metadata": {},
     "output_type": "execute_result"
    }
   ],
   "source": [
    "a = (i for i in range(10))\n",
    "b = (i*i for i in a if i % 2)\n",
    "c = (f'-{i}-' for i in b)\n",
    "list(c)"
   ]
  },
  {
   "cell_type": "markdown",
   "metadata": {},
   "source": [
    "## Coroutine\n",
    "\n",
    "In Python 2.5, a slight modification to the yield statement was introduced (PEP-342). You could now use yield as an expression. If you use yield more generally, you get a coroutine."
   ]
  },
  {
   "cell_type": "code",
   "execution_count": 27,
   "metadata": {},
   "outputs": [],
   "source": [
    "def mygen():\n",
    "    x = None\n",
    "    while True:\n",
    "        x = yield x\n",
    "        x *= 5"
   ]
  },
  {
   "cell_type": "code",
   "execution_count": 28,
   "metadata": {},
   "outputs": [],
   "source": [
    "g = mygen()"
   ]
  },
  {
   "cell_type": "code",
   "execution_count": 29,
   "metadata": {},
   "outputs": [],
   "source": [
    "next(g)  # priming, same as g.send(None)"
   ]
  },
  {
   "cell_type": "code",
   "execution_count": 30,
   "metadata": {},
   "outputs": [
    {
     "data": {
      "text/plain": [
       "25"
      ]
     },
     "execution_count": 30,
     "metadata": {},
     "output_type": "execute_result"
    }
   ],
   "source": [
    "g.send(5)"
   ]
  },
  {
   "cell_type": "code",
   "execution_count": 31,
   "metadata": {},
   "outputs": [
    {
     "data": {
      "text/plain": [
       "50"
      ]
     },
     "execution_count": 31,
     "metadata": {},
     "output_type": "execute_result"
    }
   ],
   "source": [
    "g.send(10)"
   ]
  },
  {
   "cell_type": "code",
   "execution_count": 32,
   "metadata": {},
   "outputs": [
    {
     "data": {
      "text/plain": [
       "'abcabcabcabcabc'"
      ]
     },
     "execution_count": 32,
     "metadata": {},
     "output_type": "execute_result"
    }
   ],
   "source": [
    "g.send('abc')"
   ]
  },
  {
   "cell_type": "code",
   "execution_count": 33,
   "metadata": {},
   "outputs": [
    {
     "data": {
      "text/plain": [
       "[1, 2, 3, 1, 2, 3, 1, 2, 3, 1, 2, 3, 1, 2, 3]"
      ]
     },
     "execution_count": 33,
     "metadata": {},
     "output_type": "execute_result"
    }
   ],
   "source": [
    "g.send([1, 2, 3])"
   ]
  },
  {
   "cell_type": "markdown",
   "metadata": {},
   "source": [
    "### Walrus + yield"
   ]
  },
  {
   "cell_type": "code",
   "execution_count": 34,
   "metadata": {},
   "outputs": [],
   "source": [
    "def mygen():\n",
    "    x = None\n",
    "    while x := (yield x):\n",
    "        x *= 5"
   ]
  },
  {
   "cell_type": "code",
   "execution_count": 35,
   "metadata": {},
   "outputs": [
    {
     "data": {
      "text/plain": [
       "10"
      ]
     },
     "execution_count": 35,
     "metadata": {},
     "output_type": "execute_result"
    }
   ],
   "source": [
    "g = mygen()\n",
    "g.send(None)\n",
    "g.send(2)"
   ]
  },
  {
   "cell_type": "markdown",
   "metadata": {},
   "source": [
    "### Coroutine Priming\n",
    "\n",
    "У David Beazley `@coroutine` вместо `@prime`."
   ]
  },
  {
   "cell_type": "code",
   "execution_count": 36,
   "metadata": {},
   "outputs": [],
   "source": [
    "from functools import wraps\n",
    "\n",
    "# Грузовичок срывается из гаража, доезжает до первой yield-остановки,\n",
    "# груз выгружает (он при этом игнорируется) и\n",
    "# ждет нового груза (он будет загружен через `send`).\n",
    "def prime(generator_func):\n",
    "    @wraps(generator_func)\n",
    "    def inner(*args, **kwargs):\n",
    "        generator = generator_func(*args, **kwargs)\n",
    "        next(generator)\n",
    "        return generator\n",
    "    return inner"
   ]
  },
  {
   "cell_type": "markdown",
   "metadata": {},
   "source": [
    "### Coroutine as a nanoservices"
   ]
  },
  {
   "cell_type": "code",
   "execution_count": 37,
   "metadata": {},
   "outputs": [],
   "source": [
    "# https://worldweather.wmo.int/en/dataguide.html\n",
    "# \"Russian Federation\";\"Moscow\";\"206\"\n",
    "import requests\n",
    "\n",
    "class DifferentCityException(Exception):\n",
    "    pass\n",
    "\n",
    "def get_forecasts():\n",
    "    while city_id := (yield 'Enter city id (Moscow id is 206):'):\n",
    "        weather = requests.get(f'https://worldweather.wmo.int/en/json/{city_id}_en.json').json()\n",
    "        try:\n",
    "            for one_forecast in weather['city']['forecast']['forecastDay']:\n",
    "                yield one_forecast\n",
    "        except DifferentCityException:\n",
    "            continue"
   ]
  },
  {
   "cell_type": "code",
   "execution_count": 38,
   "metadata": {},
   "outputs": [
    {
     "data": {
      "text/plain": [
       "'Enter city id (Moscow id is 206):'"
      ]
     },
     "execution_count": 38,
     "metadata": {},
     "output_type": "execute_result"
    }
   ],
   "source": [
    "g = get_forecasts()\n",
    "next(g)"
   ]
  },
  {
   "cell_type": "code",
   "execution_count": 39,
   "metadata": {},
   "outputs": [
    {
     "data": {
      "text/plain": [
       "{'forecastDate': '2022-09-26',\n",
       " 'wxdesc': '',\n",
       " 'weather': 'Clear',\n",
       " 'minTemp': '22',\n",
       " 'maxTemp': '30',\n",
       " 'minTempF': '72',\n",
       " 'maxTempF': '86',\n",
       " 'weatherIcon': 2502}"
      ]
     },
     "execution_count": 39,
     "metadata": {},
     "output_type": "execute_result"
    }
   ],
   "source": [
    "g.send(44)"
   ]
  },
  {
   "cell_type": "code",
   "execution_count": 40,
   "metadata": {},
   "outputs": [
    {
     "data": {
      "text/plain": [
       "{'forecastDate': '2022-09-27',\n",
       " 'wxdesc': '',\n",
       " 'weather': 'Clear',\n",
       " 'minTemp': '22',\n",
       " 'maxTemp': '30',\n",
       " 'minTempF': '72',\n",
       " 'maxTempF': '86',\n",
       " 'weatherIcon': 2502}"
      ]
     },
     "execution_count": 40,
     "metadata": {},
     "output_type": "execute_result"
    }
   ],
   "source": [
    "g.send(None)  # повторить"
   ]
  },
  {
   "cell_type": "code",
   "execution_count": 41,
   "metadata": {},
   "outputs": [
    {
     "data": {
      "text/plain": [
       "'Enter city id (Moscow id is 206):'"
      ]
     },
     "execution_count": 41,
     "metadata": {},
     "output_type": "execute_result"
    }
   ],
   "source": [
    "g.throw(DifferentCityException)"
   ]
  },
  {
   "cell_type": "code",
   "execution_count": 42,
   "metadata": {},
   "outputs": [
    {
     "data": {
      "text/plain": [
       "{'forecastDate': '2022-09-27',\n",
       " 'wxdesc': '',\n",
       " 'weather': 'Fine',\n",
       " 'minTemp': '3',\n",
       " 'maxTemp': '12',\n",
       " 'minTempF': '37',\n",
       " 'maxTempF': '54',\n",
       " 'weatherIcon': 2501}"
      ]
     },
     "execution_count": 42,
     "metadata": {},
     "output_type": "execute_result"
    }
   ],
   "source": [
    "g.send(206)"
   ]
  },
  {
   "cell_type": "code",
   "execution_count": 43,
   "metadata": {},
   "outputs": [
    {
     "data": {
      "text/plain": [
       "{'forecastDate': '2022-09-28',\n",
       " 'wxdesc': '',\n",
       " 'weather': 'Rain',\n",
       " 'minTemp': '7',\n",
       " 'maxTemp': '10',\n",
       " 'minTempF': '45',\n",
       " 'maxTempF': '50',\n",
       " 'weatherIcon': 1401}"
      ]
     },
     "execution_count": 43,
     "metadata": {},
     "output_type": "execute_result"
    }
   ],
   "source": [
    "g.send(None)"
   ]
  },
  {
   "cell_type": "markdown",
   "metadata": {},
   "source": [
    "### Closing a Coroutine\n",
    "\n",
    "- A coroutine might run indefinitely\n",
    "- Use `.close()` to shut it down\n",
    "- Note: Garbage collection also calls `close()`\n",
    "- `close()` can be caught (GeneratorExit)\n",
    "- You cannot ignore this exception\n",
    "- Only legal action is to clean up and return"
   ]
  },
  {
   "cell_type": "markdown",
   "metadata": {},
   "source": [
    "- https://amir.rachum.com/blog/2017/03/03/generator-cleanup/\n",
    "- https://docs.python.org/3/reference/expressions.html#generator.close\n",
    "- https://stackoverflow.com/questions/60137570/explanation-of-generator-close-with-exception-handling\n",
    "\n",
    "Closing is like throwing GeneratorExit exception"
   ]
  },
  {
   "cell_type": "code",
   "execution_count": 44,
   "metadata": {},
   "outputs": [],
   "source": [
    "def gen():\n",
    "    yield '1'\n",
    "    yield '2'\n",
    "    yield '3'"
   ]
  },
  {
   "cell_type": "code",
   "execution_count": 45,
   "metadata": {},
   "outputs": [],
   "source": [
    "# исключение GeneratorExit при выходе исчезает\n",
    "g = gen()\n",
    "next(g)\n",
    "g.close()"
   ]
  },
  {
   "cell_type": "code",
   "execution_count": 46,
   "metadata": {},
   "outputs": [],
   "source": [
    "# already closed\n",
    "g.close()"
   ]
  },
  {
   "cell_type": "code",
   "execution_count": 47,
   "metadata": {},
   "outputs": [
    {
     "name": "stdout",
     "output_type": "stream",
     "text": [
      "to 1\n",
      "1\n",
      "to 2\n",
      "2\n"
     ]
    }
   ],
   "source": [
    "# If the generator yields a value, a RuntimeError is raised\n",
    "def gen():\n",
    "    print('to 1')\n",
    "    yield '1'\n",
    "    try:\n",
    "        print('to 2')\n",
    "        yield '2'\n",
    "    except GeneratorExit:\n",
    "        print('to 3')\n",
    "        yield '3'\n",
    "    yield 'bye'\n",
    "\n",
    "g = gen()\n",
    "print(next(g))\n",
    "print(next(g))\n",
    "# g.close() => RuntimeError"
   ]
  },
  {
   "cell_type": "code",
   "execution_count": 48,
   "metadata": {},
   "outputs": [
    {
     "name": "stderr",
     "output_type": "stream",
     "text": [
      "Exception ignored in: <generator object gen at 0x7fec9cb75540>\n",
      "Traceback (most recent call last):\n",
      "  File \"/tmp/ipykernel_107508/221717615.py\", line 13, in <cell line: 13>\n",
      "RuntimeError: generator ignored GeneratorExit\n"
     ]
    },
    {
     "name": "stdout",
     "output_type": "stream",
     "text": [
      "to 3\n",
      "to 1\n",
      "1\n",
      "to 2\n",
      "2\n",
      "to 3\n",
      "value error\n"
     ]
    }
   ],
   "source": [
    "# If the generator raises any other exception, it is propagated to the caller\n",
    "def gen():\n",
    "    print('to 1')\n",
    "    yield '1'\n",
    "    try:\n",
    "        print('to 2')\n",
    "        yield '2'\n",
    "    except GeneratorExit:\n",
    "        print('to 3')\n",
    "        raise ValueError('value error')\n",
    "    yield 'bye'\n",
    "\n",
    "g = gen()\n",
    "print(next(g))\n",
    "print(next(g))\n",
    "try:\n",
    "   g.close()\n",
    "except ValueError as e:\n",
    "    print(e)"
   ]
  },
  {
   "cell_type": "markdown",
   "metadata": {},
   "source": [
    "### Throwing an Exception\n",
    "\n",
    "- Exceptions can be thrown inside a coroutine\n",
    "- Exception originates at the yield expression\n",
    "- Can be caught/handled in the usual ways\n",
    "\n",
    "Аналогично send, но только исключения. Грузовичок едет дальше!"
   ]
  },
  {
   "cell_type": "code",
   "execution_count": 49,
   "metadata": {},
   "outputs": [],
   "source": [
    "def gen():\n",
    "    print('to 1')\n",
    "    yield '1'\n",
    "    try:\n",
    "        print('to 2')\n",
    "        yield '2'\n",
    "    except ValueError:\n",
    "        print('to 3')\n",
    "        yield '3'\n",
    "    yield 'bye'"
   ]
  },
  {
   "cell_type": "code",
   "execution_count": 50,
   "metadata": {},
   "outputs": [
    {
     "name": "stdout",
     "output_type": "stream",
     "text": [
      "to 1\n",
      "1\n",
      "to 2\n",
      "2\n",
      "to 3\n",
      "3\n",
      "bye\n"
     ]
    }
   ],
   "source": [
    "g = gen()\n",
    "print(next(g))\n",
    "print(next(g))\n",
    "print(g.throw(ValueError('error')))  # грузовичок поехал дальше!\n",
    "print(next(g))"
   ]
  },
  {
   "cell_type": "markdown",
   "metadata": {},
   "source": [
    "### Coroutine vs generator\n",
    "\n",
    "David Beazley:\n",
    "\n",
    "Despite some similarities, generators and coroutines are basically two different concepts:\n",
    "\n",
    "- Generators produce values\n",
    "- Coroutines tend to consume values\n",
    "- It is easy to get sidetracked because methods meant for coroutines are sometimes described as\n",
    "  a way to tweak generators that are in the process of producing an iteration pattern (i.e., resetting its\n",
    "  value). This is mostly bogus. See example below.\n",
    "\n",
    "Keeping it straight:\n",
    "\n",
    "- Generators produce data for iteration\n",
    "- Coroutines are consumers of data\n",
    "- To keep your brain from exploding, you don't mix the two concepts together\n",
    "- Coroutines are not related to iteration\n",
    "- Note: There is a use of having yield produce a value in a coroutine, but it's not tied to iteration."
   ]
  },
  {
   "cell_type": "code",
   "execution_count": 51,
   "metadata": {},
   "outputs": [
    {
     "name": "stdout",
     "output_type": "stream",
     "text": [
      "Counting down from 5\n",
      "5\n",
      "2\n",
      "1\n",
      "0\n"
     ]
    }
   ],
   "source": [
    "# bogus example\n",
    "def countdown(n):\n",
    "    print('Counting down from', n)\n",
    "    while n >= 0:\n",
    "        newvalue = (yield n)\n",
    "        # If a new value got sent in, reset n with it\n",
    "        if newvalue is not None:\n",
    "            n = newvalue\n",
    "        else:\n",
    "            n -= 1\n",
    "\n",
    "c = countdown(5)\n",
    "for n in c:\n",
    "    print(n)\n",
    "    if n == 5:\n",
    "        c.send(3)"
   ]
  },
  {
   "cell_type": "code",
   "execution_count": 52,
   "metadata": {},
   "outputs": [
    {
     "name": "stdout",
     "output_type": "stream",
     "text": [
      "Counting down from 5\n",
      "5\n",
      "3\n",
      "2\n",
      "1\n",
      "0\n"
     ]
    }
   ],
   "source": [
    "c = countdown(5)\n",
    "for n in c:\n",
    "    print(n)\n",
    "    if n == 5:\n",
    "        print(c.send(3))  # здесь 3 было \"потеряно\""
   ]
  },
  {
   "cell_type": "markdown",
   "metadata": {},
   "source": [
    "## yield from\n",
    "\n",
    "What yield from does is it establishes a `transparent bidirectional connection` between the caller and the sub-generator:\n",
    "\n",
    "- The connection is \"transparent\" in the sense that it will propagate everything correctly too, not just the elements being generated (e.g. exceptions are propagated).\n",
    "\n",
    "- The connection is \"bidirectional\" in the sense that data can be both sent from and to a generator."
   ]
  },
  {
   "cell_type": "markdown",
   "metadata": {},
   "source": [
    "## Мой пример"
   ]
  },
  {
   "cell_type": "code",
   "execution_count": 53,
   "metadata": {},
   "outputs": [],
   "source": [
    "class LevelUpExit(Exception):\n",
    "    pass"
   ]
  },
  {
   "cell_type": "code",
   "execution_count": 54,
   "metadata": {},
   "outputs": [],
   "source": [
    "# def gen1():\n",
    "#     \"\"\"gen1\"\"\"\n",
    "#     x = 'gen1 help'\n",
    "#     while x := (yield x):\n",
    "#         x = f'gen1({x})'\n",
    "\n",
    "def gen1():\n",
    "    \"\"\"gen1\"\"\"\n",
    "    x = 'gen1 help'\n",
    "    while True:\n",
    "        try:\n",
    "            x = yield x\n",
    "        except LevelUpExit:\n",
    "            break\n",
    "        x = f'gen1({x})'"
   ]
  },
  {
   "cell_type": "code",
   "execution_count": 55,
   "metadata": {},
   "outputs": [],
   "source": [
    "def gen2():\n",
    "    \"\"\"gen2\"\"\"\n",
    "    x = 'gen2 help'\n",
    "    while True:\n",
    "        try:\n",
    "            x = yield x\n",
    "        except LevelUpExit:\n",
    "            break\n",
    "        x = f'gen2({x})'"
   ]
  },
  {
   "cell_type": "code",
   "execution_count": 56,
   "metadata": {},
   "outputs": [],
   "source": [
    "def combined(gen_functions):\n",
    "    G = {str(n): gf for n, gf in enumerate(gen_functions, start=1)}\n",
    "    welcome = '\\n'.join(f'{n}: {gf.__doc__}' for n, gf in G.items())\n",
    "    welcome += '\\nq: quit'\n",
    "    message = welcome\n",
    "    try:\n",
    "        while n := (yield message):\n",
    "            if n in G:\n",
    "                yield from G[n]()\n",
    "                message = welcome\n",
    "            else:\n",
    "                message = f'Выбор неверен. Повторите.\\n{welcome}'\n",
    "    except GeneratorExit:\n",
    "        print('cleanup')"
   ]
  },
  {
   "cell_type": "code",
   "execution_count": 57,
   "metadata": {},
   "outputs": [],
   "source": [
    "g = combined([gen1, gen2])"
   ]
  },
  {
   "cell_type": "code",
   "execution_count": 58,
   "metadata": {},
   "outputs": [
    {
     "data": {
      "text/plain": [
       "'1: gen1\\n2: gen2\\nq: quit'"
      ]
     },
     "execution_count": 58,
     "metadata": {},
     "output_type": "execute_result"
    }
   ],
   "source": [
    "g.send(None)"
   ]
  },
  {
   "cell_type": "code",
   "execution_count": 59,
   "metadata": {},
   "outputs": [
    {
     "data": {
      "text/plain": [
       "'gen1 help'"
      ]
     },
     "execution_count": 59,
     "metadata": {},
     "output_type": "execute_result"
    }
   ],
   "source": [
    "g.send('1')"
   ]
  },
  {
   "cell_type": "code",
   "execution_count": 60,
   "metadata": {},
   "outputs": [
    {
     "data": {
      "text/plain": [
       "'gen1(20)'"
      ]
     },
     "execution_count": 60,
     "metadata": {},
     "output_type": "execute_result"
    }
   ],
   "source": [
    "g.send(20)"
   ]
  },
  {
   "cell_type": "code",
   "execution_count": 61,
   "metadata": {},
   "outputs": [
    {
     "data": {
      "text/plain": [
       "'1: gen1\\n2: gen2\\nq: quit'"
      ]
     },
     "execution_count": 61,
     "metadata": {},
     "output_type": "execute_result"
    }
   ],
   "source": [
    "g.throw(LevelUpExit)"
   ]
  },
  {
   "cell_type": "code",
   "execution_count": 62,
   "metadata": {},
   "outputs": [
    {
     "data": {
      "text/plain": [
       "'gen2 help'"
      ]
     },
     "execution_count": 62,
     "metadata": {},
     "output_type": "execute_result"
    }
   ],
   "source": [
    "g.send('2')"
   ]
  },
  {
   "cell_type": "code",
   "execution_count": 63,
   "metadata": {},
   "outputs": [
    {
     "data": {
      "text/plain": [
       "'gen2(7)'"
      ]
     },
     "execution_count": 63,
     "metadata": {},
     "output_type": "execute_result"
    }
   ],
   "source": [
    "g.send(7)"
   ]
  },
  {
   "cell_type": "code",
   "execution_count": 64,
   "metadata": {},
   "outputs": [
    {
     "data": {
      "text/plain": [
       "'1: gen1\\n2: gen2\\nq: quit'"
      ]
     },
     "execution_count": 64,
     "metadata": {},
     "output_type": "execute_result"
    }
   ],
   "source": [
    "g.throw(LevelUpExit)"
   ]
  },
  {
   "cell_type": "code",
   "execution_count": 65,
   "metadata": {},
   "outputs": [],
   "source": [
    "# g.throw(LevelUpExit) => LevelUpExit"
   ]
  },
  {
   "cell_type": "code",
   "execution_count": 67,
   "metadata": {},
   "outputs": [
    {
     "name": "stdout",
     "output_type": "stream",
     "text": [
      "cleanup\n"
     ]
    }
   ],
   "source": [
    "DISABLED = True\n",
    "g = combined([gen1, gen2])\n",
    "output_str = next(g)\n",
    "while not DISABLED:\n",
    "    print(output_str)\n",
    "    input_str = input(output_str)\n",
    "    if input_str.lower() == 'q':\n",
    "        try:\n",
    "            outputs_str = g.throw(LevelUpExit)\n",
    "            pass\n",
    "        except LevelUpExit:\n",
    "            break\n",
    "    else:\n",
    "        output_str = g.send(input_str)"
   ]
  },
  {
   "cell_type": "markdown",
   "metadata": {},
   "source": [
    "## Type hinting\n",
    "\n",
    "https://mypy.readthedocs.io/en/stable/kinds_of_types.html#generators"
   ]
  }
 ],
 "metadata": {
  "kernelspec": {
   "display_name": "Python 3.10.4 ('pythonista-VO_1mNSx-py3.10')",
   "language": "python",
   "name": "python3"
  },
  "language_info": {
   "codemirror_mode": {
    "name": "ipython",
    "version": 3
   },
   "file_extension": ".py",
   "mimetype": "text/x-python",
   "name": "python",
   "nbconvert_exporter": "python",
   "pygments_lexer": "ipython3",
   "version": "3.10.4"
  },
  "orig_nbformat": 4,
  "vscode": {
   "interpreter": {
    "hash": "13feef28c11d17301e1dcc47b3a524333952f1cd4cd0d95479f68c7bbc83c133"
   }
  }
 },
 "nbformat": 4,
 "nbformat_minor": 2
}
