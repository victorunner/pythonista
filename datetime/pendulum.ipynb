{
 "cells": [
  {
   "cell_type": "markdown",
   "metadata": {},
   "source": [
    "## Материалы\n",
    "\n",
    "- https://pendulum.eustace.io/"
   ]
  },
  {
   "cell_type": "code",
   "execution_count": 1,
   "metadata": {},
   "outputs": [],
   "source": [
    "import pendulum"
   ]
  },
  {
   "cell_type": "markdown",
   "metadata": {},
   "source": [
    "The default timezone, except when using the `now()`, method will always be UTC."
   ]
  },
  {
   "cell_type": "markdown",
   "metadata": {},
   "source": [
    "## Instantiation"
   ]
  },
  {
   "cell_type": "markdown",
   "metadata": {},
   "source": [
    "`datetime()` sets the time to `00:00:00` if it's not specified, and the timezone (the `tz` keyword argument) to `UTC`.\n",
    "Otherwise it can be a Timezone instance or simply a string timezone value."
   ]
  },
  {
   "cell_type": "markdown",
   "metadata": {},
   "source": [
    "### Без указания tz - UTC"
   ]
  },
  {
   "cell_type": "code",
   "execution_count": 2,
   "metadata": {},
   "outputs": [
    {
     "data": {
      "text/plain": [
       "DateTime(2015, 2, 5, 0, 0, 0, tzinfo=Timezone('UTC'))"
      ]
     },
     "execution_count": 2,
     "metadata": {},
     "output_type": "execute_result"
    }
   ],
   "source": [
    "dt = pendulum.datetime(2015, 2, 5)\n",
    "dt"
   ]
  },
  {
   "cell_type": "code",
   "execution_count": 3,
   "metadata": {},
   "outputs": [
    {
     "data": {
      "text/plain": [
       "(Timezone('UTC'), 'UTC', 'UTC')"
      ]
     },
     "execution_count": 3,
     "metadata": {},
     "output_type": "execute_result"
    }
   ],
   "source": [
    "dt.timezone, dt.timezone.name, dt.timezone_name"
   ]
  },
  {
   "cell_type": "markdown",
   "metadata": {},
   "source": [
    "### Явное указание tz"
   ]
  },
  {
   "cell_type": "code",
   "execution_count": 4,
   "metadata": {},
   "outputs": [
    {
     "data": {
      "text/plain": [
       "DateTime(2015, 2, 5, 0, 0, 0, tzinfo=Timezone('Europe/Paris'))"
      ]
     },
     "execution_count": 4,
     "metadata": {},
     "output_type": "execute_result"
    }
   ],
   "source": [
    "pendulum.datetime(2015, 2, 5, tz='Europe/Paris')"
   ]
  },
  {
   "cell_type": "code",
   "execution_count": 5,
   "metadata": {},
   "outputs": [
    {
     "data": {
      "text/plain": [
       "DateTime(2015, 2, 5, 0, 0, 0, tzinfo=Timezone('Europe/Paris'))"
      ]
     },
     "execution_count": 5,
     "metadata": {},
     "output_type": "execute_result"
    }
   ],
   "source": [
    "tz = pendulum.timezone('Europe/Paris')\n",
    "pendulum.datetime(2015, 2, 5, tz=tz)"
   ]
  },
  {
   "cell_type": "markdown",
   "metadata": {},
   "source": [
    "Normalization (TODO - разобраться)"
   ]
  },
  {
   "cell_type": "code",
   "execution_count": 6,
   "metadata": {},
   "outputs": [
    {
     "data": {
      "text/plain": [
       "DateTime(2013, 3, 31, 3, 30, 0, tzinfo=Timezone('Europe/Paris'))"
      ]
     },
     "execution_count": 6,
     "metadata": {},
     "output_type": "execute_result"
    }
   ],
   "source": [
    "pendulum.datetime(2013, 3, 31, 2, 30, tz='Europe/Paris')\n",
    "# 2:30 for the 31th of March 2013 does not exist\n",
    "# so pendulum will return the actual time which is 3:30+02:00"
   ]
  },
  {
   "cell_type": "code",
   "execution_count": 7,
   "metadata": {},
   "outputs": [
    {
     "data": {
      "text/plain": [
       "DateTime(2013, 3, 31, 1, 30, 0, tzinfo=Timezone('Europe/Paris'))"
      ]
     },
     "execution_count": 7,
     "metadata": {},
     "output_type": "execute_result"
    }
   ],
   "source": [
    "pendulum.datetime(2013, 3, 31, 2, 30, 0, 0, tz='Europe/Paris', dst_rule=pendulum.PRE_TRANSITION)"
   ]
  },
  {
   "cell_type": "markdown",
   "metadata": {},
   "source": [
    "### local - current timezone"
   ]
  },
  {
   "cell_type": "code",
   "execution_count": 8,
   "metadata": {},
   "outputs": [
    {
     "data": {
      "text/plain": [
       "DateTime(2015, 2, 5, 0, 0, 0, tzinfo=Timezone('Europe/Moscow'))"
      ]
     },
     "execution_count": 8,
     "metadata": {},
     "output_type": "execute_result"
    }
   ],
   "source": [
    "# The special local string is also supported and will return your current timezone.\n",
    "pendulum.datetime(2015, 2, 5, tz='local')"
   ]
  },
  {
   "cell_type": "code",
   "execution_count": 9,
   "metadata": {},
   "outputs": [
    {
     "data": {
      "text/plain": [
       "DateTime(2015, 2, 5, 0, 0, 0, tzinfo=Timezone('Europe/Moscow'))"
      ]
     },
     "execution_count": 9,
     "metadata": {},
     "output_type": "execute_result"
    }
   ],
   "source": [
    "# local() is just an alias for datetime(..., tz='local')\n",
    "pendulum.local(2015, 2, 5)"
   ]
  },
  {
   "cell_type": "markdown",
   "metadata": {},
   "source": [
    "### now, today etc"
   ]
  },
  {
   "cell_type": "code",
   "execution_count": 10,
   "metadata": {},
   "outputs": [
    {
     "data": {
      "text/plain": [
       "(DateTime(2022, 10, 13, 11, 13, 24, 714891, tzinfo=Timezone('Europe/Moscow')),\n",
       " DateTime(2022, 10, 13, 11, 13, 24, 714952, tzinfo=Timezone('Europe/Moscow')),\n",
       " DateTime(2022, 10, 13, 9, 13, 24, 714960, tzinfo=Timezone('Europe/London')))"
      ]
     },
     "execution_count": 10,
     "metadata": {},
     "output_type": "execute_result"
    }
   ],
   "source": [
    "pendulum.now(), pendulum.now('local'), pendulum.now('Europe/London')"
   ]
  },
  {
   "cell_type": "code",
   "execution_count": 11,
   "metadata": {},
   "outputs": [
    {
     "data": {
      "text/plain": [
       "DateTime(2022, 10, 13, 9, 13, 24, 898040, tzinfo=Timezone('Europe/London'))"
      ]
     },
     "execution_count": 11,
     "metadata": {},
     "output_type": "execute_result"
    }
   ],
   "source": [
    "(now_in_london_tz := pendulum.now('Europe/London'))"
   ]
  },
  {
   "cell_type": "code",
   "execution_count": 12,
   "metadata": {},
   "outputs": [
    {
     "data": {
      "text/plain": [
       "'Europe/London'"
      ]
     },
     "execution_count": 12,
     "metadata": {},
     "output_type": "execute_result"
    }
   ],
   "source": [
    "now_in_london_tz.timezone_name"
   ]
  },
  {
   "cell_type": "code",
   "execution_count": 13,
   "metadata": {},
   "outputs": [
    {
     "data": {
      "text/plain": [
       "(DateTime(2022, 10, 13, 0, 0, 0, tzinfo=Timezone('Europe/Moscow')),\n",
       " DateTime(2022, 10, 12, 0, 0, 0, tzinfo=Timezone('Europe/Moscow')),\n",
       " DateTime(2022, 10, 14, 0, 0, 0, tzinfo=Timezone('Europe/Moscow')),\n",
       " DateTime(2022, 10, 14, 0, 0, 0, tzinfo=Timezone('Europe/London')))"
      ]
     },
     "execution_count": 13,
     "metadata": {},
     "output_type": "execute_result"
    }
   ],
   "source": [
    "tt = pendulum.today(), pendulum.yesterday(), pendulum.tomorrow(), pendulum.tomorrow('Europe/London')\n",
    "tt"
   ]
  },
  {
   "cell_type": "code",
   "execution_count": 14,
   "metadata": {},
   "outputs": [
    {
     "name": "stdout",
     "output_type": "stream",
     "text": [
      "2022-10-13T00:00:00+03:00\n",
      "2022-10-12T00:00:00+03:00\n",
      "2022-10-14T00:00:00+03:00\n",
      "2022-10-14T00:00:00+01:00\n"
     ]
    }
   ],
   "source": [
    "for t in tt: print(t)"
   ]
  },
  {
   "cell_type": "markdown",
   "metadata": {},
   "source": [
    "### naive\n",
    "\n",
    "Pendulum enforces timezone aware datetimes, and using them is the preferred and recommended way of using the library.\n",
    "However, if you really need a naive DateTime object, the naive() helper is there for you."
   ]
  },
  {
   "cell_type": "code",
   "execution_count": 15,
   "metadata": {},
   "outputs": [
    {
     "data": {
      "text/plain": [
       "(DateTime(2015, 2, 5, 0, 0, 0), None)"
      ]
     },
     "execution_count": 15,
     "metadata": {},
     "output_type": "execute_result"
    }
   ],
   "source": [
    "naive = pendulum.naive(2015, 2, 5)\n",
    "naive, naive.timezone"
   ]
  },
  {
   "cell_type": "markdown",
   "metadata": {},
   "source": [
    "### from_format()\n",
    "\n",
    "The next helper, `from_format()`, is similar to the native `datetime.strptime()` function but uses custom tokens to create a `DateTime` instance."
   ]
  },
  {
   "cell_type": "code",
   "execution_count": 16,
   "metadata": {},
   "outputs": [
    {
     "data": {
      "text/plain": [
       "DateTime(1975, 5, 21, 22, 0, 0, tzinfo=Timezone('UTC'))"
      ]
     },
     "execution_count": 16,
     "metadata": {},
     "output_type": "execute_result"
    }
   ],
   "source": [
    "dt = pendulum.from_format('1975-05-21 22', 'YYYY-MM-DD HH')\n",
    "dt"
   ]
  },
  {
   "cell_type": "code",
   "execution_count": 17,
   "metadata": {},
   "outputs": [
    {
     "data": {
      "text/plain": [
       "DateTime(1975, 5, 21, 22, 0, 0, tzinfo=Timezone('Europe/London'))"
      ]
     },
     "execution_count": 17,
     "metadata": {},
     "output_type": "execute_result"
    }
   ],
   "source": [
    "# It also accepts a tz keyword argument to specify the timezone\n",
    "dt = pendulum.from_format('1975-05-21 22', 'YYYY-MM-DD HH', tz='Europe/London')\n",
    "dt"
   ]
  },
  {
   "cell_type": "markdown",
   "metadata": {},
   "source": [
    "### from_timestamp()\n",
    "\n",
    "The final helper is for working with unix timestamps. `from_timestamp()` will create a DateTime instance equal to the given timestamp and will set the timezone as well or default it to UTC."
   ]
  },
  {
   "cell_type": "code",
   "execution_count": 18,
   "metadata": {},
   "outputs": [
    {
     "data": {
      "text/plain": [
       "DateTime(1970, 1, 1, 0, 59, 59, tzinfo=Timezone('Europe/London'))"
      ]
     },
     "execution_count": 18,
     "metadata": {},
     "output_type": "execute_result"
    }
   ],
   "source": [
    "pendulum.from_timestamp(-1, tz='Europe/London')"
   ]
  },
  {
   "cell_type": "markdown",
   "metadata": {},
   "source": [
    "## Parsing\n",
    "\n",
    "The library natively supports the RFC 3339 format, most ISO 8601 formats and some other common formats.\n",
    "\n",
    "If you pass a non-standard or more complicated string, it will raise an exception, so it is advised to use the `from_format()` helper instead.\n",
    "\n",
    "However, if you want the library to fall back on the `dateutil` parser, you have to pass `strict=False`."
   ]
  },
  {
   "cell_type": "code",
   "execution_count": 19,
   "metadata": {},
   "outputs": [
    {
     "data": {
      "text/plain": [
       "DateTime(1975, 5, 21, 22, 0, 0, tzinfo=Timezone('UTC'))"
      ]
     },
     "execution_count": 19,
     "metadata": {},
     "output_type": "execute_result"
    }
   ],
   "source": [
    "pendulum.parse('1975-05-21T22:00:00')"
   ]
  },
  {
   "cell_type": "code",
   "execution_count": 20,
   "metadata": {},
   "outputs": [
    {
     "data": {
      "text/plain": [
       "DateTime(1975, 5, 21, 22, 0, 0, tzinfo=Timezone('Europe/Paris'))"
      ]
     },
     "execution_count": 20,
     "metadata": {},
     "output_type": "execute_result"
    }
   ],
   "source": [
    "pendulum.parse('1975-05-21T22:00:00', tz='Europe/Paris')"
   ]
  },
  {
   "cell_type": "code",
   "execution_count": 21,
   "metadata": {},
   "outputs": [
    {
     "data": {
      "text/plain": [
       "DateTime(1975, 5, 21, 22, 0, 0, tzinfo=Timezone('UTC'))"
      ]
     },
     "execution_count": 21,
     "metadata": {},
     "output_type": "execute_result"
    }
   ],
   "source": [
    "# Not ISO 8601 compliant but common\n",
    "pendulum.parse('1975-05-21 22:00:00')"
   ]
  },
  {
   "cell_type": "markdown",
   "metadata": {},
   "source": [
    "If you pass a non-standard or more complicated string, it will raise an exception, so it is advised to use the `from_format()` helper instead.\n",
    "\n",
    "However, if you want the library to fall back on the `dateutil` parser, you have to pass `strict=False`."
   ]
  },
  {
   "cell_type": "code",
   "execution_count": 22,
   "metadata": {},
   "outputs": [
    {
     "name": "stdout",
     "output_type": "stream",
     "text": [
      "<class 'pendulum.parsing.exceptions.ParserError'> Unable to parse string [31-01-01]\n"
     ]
    },
    {
     "data": {
      "text/plain": [
       "DateTime(2031, 1, 1, 0, 0, 0, tzinfo=Timezone('UTC'))"
      ]
     },
     "execution_count": 22,
     "metadata": {},
     "output_type": "execute_result"
    }
   ],
   "source": [
    "try:\n",
    "    pendulum.parse('31-01-01')\n",
    "except Exception as e:\n",
    "    print(type(e), e)\n",
    "\n",
    "pendulum.parse('31-01-01', strict=False)"
   ]
  },
  {
   "cell_type": "code",
   "execution_count": 23,
   "metadata": {},
   "outputs": [
    {
     "data": {
      "text/plain": [
       "Date(2012, 5, 3)"
      ]
     },
     "execution_count": 23,
     "metadata": {},
     "output_type": "execute_result"
    }
   ],
   "source": [
    "# You can pass the exact keyword argument to parse() to get the exact type that the string represents:\n",
    "\n",
    "pendulum.parse('2012-05-03', exact=True)"
   ]
  },
  {
   "cell_type": "markdown",
   "metadata": {},
   "source": [
    "## Attributes and Properties"
   ]
  },
  {
   "cell_type": "code",
   "execution_count": 24,
   "metadata": {},
   "outputs": [
    {
     "data": {
      "text/plain": [
       "DateTime(2012, 9, 5, 23, 26, 11, 123789, tzinfo=Timezone('UTC'))"
      ]
     },
     "execution_count": 24,
     "metadata": {},
     "output_type": "execute_result"
    }
   ],
   "source": [
    "dt = pendulum.parse('2012-09-05T23:26:11.123789')\n",
    "dt"
   ]
  },
  {
   "cell_type": "code",
   "execution_count": 25,
   "metadata": {},
   "outputs": [
    {
     "data": {
      "text/plain": [
       "(2012, 9, 5, 23, 26, 11, 123789)"
      ]
     },
     "execution_count": 25,
     "metadata": {},
     "output_type": "execute_result"
    }
   ],
   "source": [
    "dt.year, dt.month, dt.day, dt.hour, dt.minute, dt.second, dt.microsecond"
   ]
  },
  {
   "cell_type": "code",
   "execution_count": 26,
   "metadata": {},
   "outputs": [
    {
     "data": {
      "text/plain": [
       "(3, 249, 2, 36, 30, 1346887571.123789, 1346887571.123789, 1346887571, 3)"
      ]
     },
     "execution_count": 26,
     "metadata": {},
     "output_type": "execute_result"
    }
   ],
   "source": [
    "(\n",
    "    dt.day_of_week, dt.day_of_year, dt.week_of_month, dt.week_of_year, dt.days_in_month,\n",
    "    dt.timestamp(), dt.float_timestamp, dt.int_timestamp,\n",
    "    dt.quarter\n",
    ")"
   ]
  },
  {
   "cell_type": "code",
   "execution_count": 27,
   "metadata": {},
   "outputs": [
    {
     "data": {
      "text/plain": [
       "47"
      ]
     },
     "execution_count": 27,
     "metadata": {},
     "output_type": "execute_result"
    }
   ],
   "source": [
    "pendulum.datetime(1975, 5, 21).age"
   ]
  },
  {
   "cell_type": "code",
   "execution_count": 28,
   "metadata": {},
   "outputs": [
    {
     "data": {
      "text/plain": [
       "DateTime(2022, 10, 13, 11, 13, 28, 309406, tzinfo=Timezone('Europe/Moscow'))"
      ]
     },
     "execution_count": 28,
     "metadata": {},
     "output_type": "execute_result"
    }
   ],
   "source": [
    "now = pendulum.now()\n",
    "now"
   ]
  },
  {
   "cell_type": "code",
   "execution_count": 29,
   "metadata": {},
   "outputs": [
    {
     "data": {
      "text/plain": [
       "(Timezone('Europe/Moscow'), Timezone('Europe/Moscow'), 'Europe/Moscow')"
      ]
     },
     "execution_count": 29,
     "metadata": {},
     "output_type": "execute_result"
    }
   ],
   "source": [
    "now.timezone, now.tz,  now.timezone_name"
   ]
  },
  {
   "cell_type": "code",
   "execution_count": 30,
   "metadata": {},
   "outputs": [
    {
     "data": {
      "text/plain": [
       "(10800, 3.0)"
      ]
     },
     "execution_count": 30,
     "metadata": {},
     "output_type": "execute_result"
    }
   ],
   "source": [
    "now.offset, now.offset_hours"
   ]
  },
  {
   "cell_type": "code",
   "execution_count": 31,
   "metadata": {},
   "outputs": [
    {
     "data": {
      "text/plain": [
       "False"
      ]
     },
     "execution_count": 31,
     "metadata": {},
     "output_type": "execute_result"
    }
   ],
   "source": [
    "# Indicates if daylight savings time is on\n",
    "now.is_dst()"
   ]
  },
  {
   "cell_type": "code",
   "execution_count": 32,
   "metadata": {},
   "outputs": [
    {
     "data": {
      "text/plain": [
       "True"
      ]
     },
     "execution_count": 32,
     "metadata": {},
     "output_type": "execute_result"
    }
   ],
   "source": [
    "# Indicates if the instance is in the same timezone as the local timezone\n",
    "now.is_local()"
   ]
  },
  {
   "cell_type": "code",
   "execution_count": 33,
   "metadata": {},
   "outputs": [
    {
     "data": {
      "text/plain": [
       "False"
      ]
     },
     "execution_count": 33,
     "metadata": {},
     "output_type": "execute_result"
    }
   ],
   "source": [
    "# Indicates if the instance is in the UTC timezonenow\n",
    "now.is_utc()"
   ]
  },
  {
   "cell_type": "markdown",
   "metadata": {},
   "source": [
    "## Fluent helpers"
   ]
  },
  {
   "cell_type": "code",
   "execution_count": 34,
   "metadata": {},
   "outputs": [
    {
     "data": {
      "text/plain": [
       "'1975-05-21 22:32:05'"
      ]
     },
     "execution_count": 34,
     "metadata": {},
     "output_type": "execute_result"
    }
   ],
   "source": [
    "dt = pendulum.now()\n",
    "dt.on(1975, 5, 21).at(22, 32, 5).to_datetime_string()"
   ]
  },
  {
   "cell_type": "code",
   "execution_count": 35,
   "metadata": {},
   "outputs": [
    {
     "data": {
      "text/plain": [
       "DateTime(2022, 10, 13, 11, 13, 29, 540382, tzinfo=Timezone('Europe/London'))"
      ]
     },
     "execution_count": 35,
     "metadata": {},
     "output_type": "execute_result"
    }
   ],
   "source": [
    "dt.set(tz='Europe/London')"
   ]
  },
  {
   "cell_type": "markdown",
   "metadata": {},
   "source": [
    "Setting the timezone just modifies the timezone information without making any conversion, while `in_timezone()` (or `in_tz()`) converts the time in the appropriate timezone."
   ]
  },
  {
   "cell_type": "code",
   "execution_count": 36,
   "metadata": {},
   "outputs": [
    {
     "data": {
      "text/plain": [
       "(DateTime(2022, 10, 13, 10, 13, 29, 540382, tzinfo=Timezone('Europe/Paris')),\n",
       " DateTime(2022, 10, 13, 10, 13, 29, 540382, tzinfo=Timezone('Europe/Paris')))"
      ]
     },
     "execution_count": 36,
     "metadata": {},
     "output_type": "execute_result"
    }
   ],
   "source": [
    "dt.in_tz('Europe/Paris'), dt.in_timezone('Europe/Paris')"
   ]
  },
  {
   "cell_type": "markdown",
   "metadata": {},
   "source": [
    "## String formatting\n",
    "\n",
    "The `__str__` magic method is defined to allow `DateTime` instances to be printed as a pretty date string when used in a string context.\n",
    "\n",
    "The default string representation is the same as the one returned by the isoformat() method.\n",
    "\n",
    "For localization support see the Localization section."
   ]
  },
  {
   "cell_type": "code",
   "execution_count": 37,
   "metadata": {},
   "outputs": [
    {
     "data": {
      "text/plain": [
       "(DateTime(1975, 12, 25, 14, 15, 16, tzinfo=Timezone('UTC')),\n",
       " \"DateTime(1975, 12, 25, 14, 15, 16, tzinfo=Timezone('UTC'))\",\n",
       " '1975-12-25T14:15:16+00:00')"
      ]
     },
     "execution_count": 37,
     "metadata": {},
     "output_type": "execute_result"
    }
   ],
   "source": [
    "dt = pendulum.datetime(1975, 12, 25, 14, 15, 16)\n",
    "dt, repr(dt), str(dt)"
   ]
  },
  {
   "cell_type": "code",
   "execution_count": 38,
   "metadata": {},
   "outputs": [
    {
     "name": "stdout",
     "output_type": "stream",
     "text": [
      "1975-12-25T14:15:16+00:00\n"
     ]
    }
   ],
   "source": [
    "print(dt)"
   ]
  },
  {
   "cell_type": "code",
   "execution_count": 39,
   "metadata": {},
   "outputs": [
    {
     "data": {
      "text/plain": [
       "'1975-12-25'"
      ]
     },
     "execution_count": 39,
     "metadata": {},
     "output_type": "execute_result"
    }
   ],
   "source": [
    "dt.to_date_string()"
   ]
  },
  {
   "cell_type": "code",
   "execution_count": 40,
   "metadata": {},
   "outputs": [
    {
     "data": {
      "text/plain": [
       "'Dec 25, 1975'"
      ]
     },
     "execution_count": 40,
     "metadata": {},
     "output_type": "execute_result"
    }
   ],
   "source": [
    "dt.to_formatted_date_string()"
   ]
  },
  {
   "cell_type": "code",
   "execution_count": 41,
   "metadata": {},
   "outputs": [
    {
     "data": {
      "text/plain": [
       "'14:15:16'"
      ]
     },
     "execution_count": 41,
     "metadata": {},
     "output_type": "execute_result"
    }
   ],
   "source": [
    "dt.to_time_string()"
   ]
  },
  {
   "cell_type": "code",
   "execution_count": 42,
   "metadata": {},
   "outputs": [
    {
     "data": {
      "text/plain": [
       "'1975-12-25 14:15:16'"
      ]
     },
     "execution_count": 42,
     "metadata": {},
     "output_type": "execute_result"
    }
   ],
   "source": [
    "dt.to_datetime_string()"
   ]
  },
  {
   "cell_type": "code",
   "execution_count": 43,
   "metadata": {},
   "outputs": [
    {
     "data": {
      "text/plain": [
       "'Thu, Dec 25, 1975 2:15 PM'"
      ]
     },
     "execution_count": 43,
     "metadata": {},
     "output_type": "execute_result"
    }
   ],
   "source": [
    "dt.to_day_datetime_string()"
   ]
  },
  {
   "cell_type": "code",
   "execution_count": 44,
   "metadata": {},
   "outputs": [
    {
     "data": {
      "text/plain": [
       "'Thursday 25th of December 1975 14:15:16 PM'"
      ]
     },
     "execution_count": 44,
     "metadata": {},
     "output_type": "execute_result"
    }
   ],
   "source": [
    "# You can also use the format() method\n",
    "dt.format('dddd Do [of] MMMM YYYY HH:mm:ss A')"
   ]
  },
  {
   "cell_type": "code",
   "execution_count": 45,
   "metadata": {},
   "outputs": [
    {
     "data": {
      "text/plain": [
       "'02:15:16 PM'"
      ]
     },
     "execution_count": 45,
     "metadata": {},
     "output_type": "execute_result"
    }
   ],
   "source": [
    "# Of course, the strftime method is still available\n",
    "dt.strftime('%I:%M:%S %p')"
   ]
  },
  {
   "cell_type": "markdown",
   "metadata": {},
   "source": [
    "Common Formats\n",
    "\n",
    "```python\n",
    ">>> dt = pendulum.now()\n",
    "\n",
    ">>> dt.to_atom_string()\n",
    "'1975-12-25T14:15:16-05:00'\n",
    "\n",
    ">>> dt.to_cookie_string()\n",
    "'Thursday, 25-Dec-1975 14:15:16 EST'\n",
    "\n",
    ">>> dt.to_iso8601_string()\n",
    "'1975-12-25T14:15:16-0500'\n",
    "\n",
    ">>> dt.to_rfc822_string()\n",
    "'Thu, 25 Dec 75 14:15:16 -0500'\n",
    "\n",
    ">>> dt.to_rfc850_string()\n",
    "'Thursday, 25-Dec-75 14:15:16 EST'\n",
    "\n",
    ">>> dt.to_rfc1036_string()\n",
    "'Thu, 25 Dec 75 14:15:16 -0500'\n",
    "\n",
    ">>> dt.to_rfc1123_string()\n",
    "'Thu, 25 Dec 1975 14:15:16 -0500'\n",
    "\n",
    ">>> dt.to_rfc2822_string()\n",
    "'Thu, 25 Dec 1975 14:15:16 -0500'\n",
    "\n",
    ">>> dt.to_rfc3339_string()\n",
    "'1975-12-25T14:15:16-05:00'\n",
    "\n",
    ">>> dt.to_rss_string()\n",
    "'Thu, 25 Dec 1975 14:15:16 -0500'\n",
    "\n",
    ">>> dt.to_w3c_string()\n",
    "'1975-12-25T14:15:16-05:00'\n",
    "```"
   ]
  },
  {
   "cell_type": "markdown",
   "metadata": {},
   "source": [
    "Formatter\n",
    "\n",
    "Pendulum uses its own formatter when using the format() method.\n",
    "\n",
    "This format is more intuitive to use than the one used with strftime() and supports more directives.\n",
    "\n",
    "```\n",
    ">>> import pendulum\n",
    "\n",
    ">>> dt = pendulum.datetime(1975, 12, 25, 14, 15, 16)\n",
    ">>> dt.format('YYYY-MM-DD HH:mm:ss')\n",
    "'1975-12-25 14:15:16'\n",
    "```"
   ]
  },
  {
   "cell_type": "markdown",
   "metadata": {},
   "source": [
    "## Comparison\n",
    "\n",
    "Simple comparison is offered up via the basic operators. Remember that the comparison is done in the UTC timezone so things aren't always as they seem."
   ]
  },
  {
   "cell_type": "code",
   "execution_count": 46,
   "metadata": {},
   "outputs": [
    {
     "data": {
      "text/plain": [
       "('2012-09-05T23:26:11-04:00', '2012-09-05T20:26:11-07:00')"
      ]
     },
     "execution_count": 46,
     "metadata": {},
     "output_type": "execute_result"
    }
   ],
   "source": [
    "first = pendulum.datetime(2012, 9, 5, 23, 26, 11, 0, tz='America/Toronto')\n",
    "second = pendulum.datetime(2012, 9, 5, 20, 26, 11, 0, tz='America/Vancouver')\n",
    "str(first), str(second)"
   ]
  },
  {
   "cell_type": "code",
   "execution_count": 47,
   "metadata": {},
   "outputs": [
    {
     "data": {
      "text/plain": [
       "True"
      ]
     },
     "execution_count": 47,
     "metadata": {},
     "output_type": "execute_result"
    }
   ],
   "source": [
    "first == second"
   ]
  },
  {
   "cell_type": "code",
   "execution_count": 48,
   "metadata": {},
   "outputs": [
    {
     "data": {
      "text/plain": [
       "(False, False)"
      ]
     },
     "execution_count": 48,
     "metadata": {},
     "output_type": "execute_result"
    }
   ],
   "source": [
    "first = first.on(2012, 1, 1).at(0, 0, 0)\n",
    "second = second.on(2012, 1, 1).at(0, 0, 0)\n",
    "# tz is still America/Vancouver for second\n",
    "\n",
    "first == second, first > second"
   ]
  },
  {
   "cell_type": "markdown",
   "metadata": {},
   "source": [
    "To handle the most used cases there are some simple helper functions. For the methods that compare to `now()` (ex. `is_today()`) in some manner the `now()` is created in the same timezone as the instance."
   ]
  },
  {
   "cell_type": "code",
   "execution_count": 49,
   "metadata": {},
   "outputs": [
    {
     "data": {
      "text/plain": [
       "DateTime(2022, 10, 13, 11, 13, 32, 692771, tzinfo=Timezone('Europe/Moscow'))"
      ]
     },
     "execution_count": 49,
     "metadata": {},
     "output_type": "execute_result"
    }
   ],
   "source": [
    "dt = pendulum.now()\n",
    "dt"
   ]
  },
  {
   "cell_type": "code",
   "execution_count": 50,
   "metadata": {},
   "outputs": [
    {
     "data": {
      "text/plain": [
       "(True, False)"
      ]
     },
     "execution_count": 50,
     "metadata": {},
     "output_type": "execute_result"
    }
   ],
   "source": [
    "dt.is_past(), dt.is_leap_year()"
   ]
  },
  {
   "cell_type": "code",
   "execution_count": 51,
   "metadata": {},
   "outputs": [],
   "source": [
    "born = pendulum.datetime(1987, 4, 23)\n",
    "not_birthday = pendulum.datetime(2014, 9, 26)\n",
    "birthday = pendulum.datetime(2014, 4, 23)"
   ]
  },
  {
   "cell_type": "code",
   "execution_count": 52,
   "metadata": {},
   "outputs": [
    {
     "data": {
      "text/plain": [
       "(False, True)"
      ]
     },
     "execution_count": 52,
     "metadata": {},
     "output_type": "execute_result"
    }
   ],
   "source": [
    "born.is_birthday(not_birthday), born.is_birthday(birthday)"
   ]
  },
  {
   "cell_type": "code",
   "execution_count": 53,
   "metadata": {},
   "outputs": [
    {
     "data": {
      "text/plain": [
       "True"
      ]
     },
     "execution_count": 53,
     "metadata": {},
     "output_type": "execute_result"
    }
   ],
   "source": [
    "past_birthday = pendulum.now().subtract(years=50)\n",
    "past_birthday.is_birthday()  # Compares to now by default"
   ]
  },
  {
   "cell_type": "markdown",
   "metadata": {},
   "source": [
    "## Addition and Subtraction"
   ]
  },
  {
   "cell_type": "markdown",
   "metadata": {},
   "source": [
    "To easily add and subtract time, you can use the `add()` and `subtract()` methods. Each method returns a new `DateTime` instance.\n",
    "\n",
    "Passing negative values to `add()` is also possible and will act exactly like `subtract()`.\n",
    "\n",
    "years, months, days, weeks, hours, minutes, seconds"
   ]
  },
  {
   "cell_type": "code",
   "execution_count": 54,
   "metadata": {},
   "outputs": [
    {
     "data": {
      "text/plain": [
       "(DateTime(2012, 1, 31, 0, 0, 0, tzinfo=Timezone('UTC')), '2012-01-31 00:00:00')"
      ]
     },
     "execution_count": 54,
     "metadata": {},
     "output_type": "execute_result"
    }
   ],
   "source": [
    "dt = pendulum.datetime(2012, 1, 31)\n",
    "dt, dt.to_datetime_string()"
   ]
  },
  {
   "cell_type": "code",
   "execution_count": 55,
   "metadata": {},
   "outputs": [
    {
     "data": {
      "text/plain": [
       "(DateTime(2017, 1, 31, 0, 0, 0, tzinfo=Timezone('UTC')),\n",
       " DateTime(2011, 1, 31, 0, 0, 0, tzinfo=Timezone('UTC')))"
      ]
     },
     "execution_count": 55,
     "metadata": {},
     "output_type": "execute_result"
    }
   ],
   "source": [
    "dt.add(years=5), dt.subtract(years=1)"
   ]
  },
  {
   "cell_type": "code",
   "execution_count": 56,
   "metadata": {},
   "outputs": [
    {
     "data": {
      "text/plain": [
       "(DateTime(2015, 4, 6, 12, 31, 43, tzinfo=Timezone('UTC')),\n",
       " DateTime(2008, 11, 23, 11, 28, 17, tzinfo=Timezone('UTC')))"
      ]
     },
     "execution_count": 56,
     "metadata": {},
     "output_type": "execute_result"
    }
   ],
   "source": [
    "\n",
    "dt1 = dt.add(years=3, months=2, days=6, hours=12, minutes=31, seconds=43)\n",
    "dt2 = dt.subtract(years=3, months=2, days=6, hours=12, minutes=31, seconds=43)\n",
    "dt1, dt2"
   ]
  },
  {
   "cell_type": "markdown",
   "metadata": {},
   "source": [
    "## Difference"
   ]
  },
  {
   "cell_type": "code",
   "execution_count": 57,
   "metadata": {},
   "outputs": [],
   "source": [
    "dt_ottawa = pendulum.datetime(2000, 1, 1, tz='America/Toronto')\n",
    "dt_vancouver = pendulum.datetime(2000, 1, 1, tz='America/Vancouver')"
   ]
  },
  {
   "cell_type": "code",
   "execution_count": 58,
   "metadata": {},
   "outputs": [
    {
     "data": {
      "text/plain": [
       "(<Period [2000-01-01T00:00:00-05:00 -> 2000-01-01T00:00:00-08:00]>, 3)"
      ]
     },
     "execution_count": 58,
     "metadata": {},
     "output_type": "execute_result"
    }
   ],
   "source": [
    "d = dt_ottawa.diff(dt_vancouver)\n",
    "d, d.in_hours()"
   ]
  },
  {
   "cell_type": "code",
   "execution_count": 59,
   "metadata": {},
   "outputs": [
    {
     "data": {
      "text/plain": [
       "(3, -3)"
      ]
     },
     "execution_count": 59,
     "metadata": {},
     "output_type": "execute_result"
    }
   ],
   "source": [
    "dt_ottawa.diff(dt_vancouver, False).in_hours(), dt_vancouver.diff(dt_ottawa, False).in_hours()\n",
    "# See also in_days(), in_minutes()"
   ]
  },
  {
   "cell_type": "markdown",
   "metadata": {},
   "source": [
    "diff_for_humans (see docs)"
   ]
  },
  {
   "cell_type": "code",
   "execution_count": 60,
   "metadata": {},
   "outputs": [
    {
     "data": {
      "text/plain": [
       "'1 Jahr später'"
      ]
     },
     "execution_count": 60,
     "metadata": {},
     "output_type": "execute_result"
    }
   ],
   "source": [
    "# pendulum.set_locale('ru')\n",
    "pendulum.now().diff_for_humans(pendulum.now().subtract(years=1), locale='de')"
   ]
  },
  {
   "cell_type": "markdown",
   "metadata": {},
   "source": [
    "## Modifiers\n",
    "\n",
    "This group of methods performs helpful modifications to a copy of the current instance. You'll notice that the start_of(), next() and previous() methods set the time to 00:00:00 and the end_of() methods set the time to 23:59:59.999999.\n",
    "\n",
    "The only one slightly different is the average() method. It returns the middle date between itself and the provided DateTime argument.\n",
    "\n",
    "```python\n",
    ">>> import pendulum\n",
    "\n",
    ">>> dt = pendulum.datetime(2012, 1, 31, 12, 0, 0)\n",
    "\n",
    ">>> dt.start_of('day')\n",
    "'2012-01-31 00:00:00'\n",
    "\n",
    ">>> dt.end_of('day')\n",
    "'2012-01-31 23:59:59'\n",
    "\n",
    ">>> dt.start_of('month')\n",
    "'2012-01-01 00:00:00'\n",
    "\n",
    ">>> dt.end_of('month')\n",
    "'2012-01-31 23:59:59'\n",
    "\n",
    ">>> dt.start_of('year')\n",
    "'2012-01-01 00:00:00'\n",
    "\n",
    ">>> dt.end_of('year')\n",
    "'2012-12-31 23:59:59'\n",
    "\n",
    ">>> dt.start_of('decade')\n",
    "'2010-01-01 00:00:00'\n",
    "\n",
    ">>> dt.end_of('decade')\n",
    "'2019-12-31 23:59:59'\n",
    "\n",
    ">>> dt.start_of('century')\n",
    "'2000-01-01 00:00:00'\n",
    "\n",
    ">>> dt.end_of('century')\n",
    "'2099-12-31 23:59:59'\n",
    "\n",
    ">>> dt.start_of('week')\n",
    "'2012-01-30 00:00:00'\n",
    ">>> dt.day_of_week == pendulum.MONDAY\n",
    "True # ISO8601 week starts on Monday\n",
    "\n",
    ">>> dt.end_of('week')\n",
    "'2012-02-05 23:59:59'\n",
    ">>> dt.day_of_week == pendulum.SUNDAY\n",
    "True # ISO8601 week ends on SUNDAY\n",
    "\n",
    ">>> dt.next(pendulum.WEDNESDAY)\n",
    "'2012-02-01 00:00:00'\n",
    ">>> dt.day_of_week == pendulum.WEDNESDAY\n",
    "True\n",
    "\n",
    ">>> dt = pendulum.datetime(2012, 1, 1, 12, 0, 0)\n",
    "dt.next()\n",
    "'2012-01-08 00:00:00'\n",
    ">>> dt.next(keep_time=True)\n",
    "'2012-01-08T12:00:00+00:00'\n",
    "\n",
    ">>> dt = pendulum.datetime(2012, 1, 31, 12, 0, 0)\n",
    ">>> dt.previous(pendulum.WEDNESDAY)\n",
    "'2012-01-25 00:00:00'\n",
    ">>> dt.day_of_week == pendulum.WEDNESDAY\n",
    "True\n",
    "\n",
    ">>> dt = pendulum.datetime(2012, 1, 1, 12, 0, 0)\n",
    ">>> dt.previous()\n",
    "'2011-12-25 00:00:00'\n",
    ">>> dt.previous(keep_time=True)\n",
    "'2011-12-25 12:00:00'\n",
    "\n",
    ">>> start = pendulum.datetime(2014, 1, 1)\n",
    ">>> end = pendulum.datetime(2014, 1, 30)\n",
    ">>> start.average(end)\n",
    "'2014-01-15 12:00:00'\n",
    "\n",
    "# others that are defined that are similar\n",
    "# and tha accept month, quarter and year units\n",
    "# first_of(), last_of(), nth_of()\n",
    "```"
   ]
  },
  {
   "cell_type": "markdown",
   "metadata": {},
   "source": [
    "## Timezones\n",
    "\n",
    "See docs"
   ]
  },
  {
   "cell_type": "markdown",
   "metadata": {},
   "source": [
    "## Duration\n",
    "\n",
    "The Duration class is inherited from the native timedelta class. It has many improvements over the base class.\n",
    "\n",
    "See docs"
   ]
  },
  {
   "cell_type": "code",
   "execution_count": 61,
   "metadata": {},
   "outputs": [],
   "source": [
    "it = pendulum.duration(days=1177, seconds=7284, microseconds=1234)"
   ]
  },
  {
   "cell_type": "code",
   "execution_count": 62,
   "metadata": {},
   "outputs": [
    {
     "data": {
      "text/plain": [
       "(168, 1177)"
      ]
     },
     "execution_count": 62,
     "metadata": {},
     "output_type": "execute_result"
    }
   ],
   "source": [
    "it.weeks, it.days"
   ]
  },
  {
   "cell_type": "code",
   "execution_count": 63,
   "metadata": {},
   "outputs": [
    {
     "data": {
      "text/plain": [
       "'168 weeks 1 day 2 hours 1 minute 24 seconds'"
      ]
     },
     "execution_count": 63,
     "metadata": {},
     "output_type": "execute_result"
    }
   ],
   "source": [
    "it.in_words()"
   ]
  },
  {
   "cell_type": "markdown",
   "metadata": {},
   "source": [
    "## Period\n",
    "\n",
    "See docs"
   ]
  },
  {
   "cell_type": "markdown",
   "metadata": {},
   "source": [
    "If you want to iterate over a period, you can use the `range()` method:"
   ]
  },
  {
   "cell_type": "code",
   "execution_count": 64,
   "metadata": {},
   "outputs": [
    {
     "name": "stdout",
     "output_type": "stream",
     "text": [
      "2000-01-01T00:00:00+00:00\n",
      "2000-01-02T00:00:00+00:00\n",
      "2000-01-03T00:00:00+00:00\n",
      "2000-01-04T00:00:00+00:00\n",
      "2000-01-05T00:00:00+00:00\n",
      "2000-01-06T00:00:00+00:00\n",
      "2000-01-07T00:00:00+00:00\n",
      "2000-01-08T00:00:00+00:00\n",
      "2000-01-09T00:00:00+00:00\n",
      "2000-01-10T00:00:00+00:00\n"
     ]
    }
   ],
   "source": [
    "start = pendulum.datetime(2000, 1, 1)\n",
    "end = pendulum.datetime(2000, 1, 10)\n",
    "\n",
    "period = pendulum.period(start, end)\n",
    "\n",
    "for dt in period.range('days'):\n",
    "    print(dt)"
   ]
  },
  {
   "cell_type": "markdown",
   "metadata": {},
   "source": [
    "Supported units for range() are: years, months, weeks, days, hours, minutes and seconds."
   ]
  },
  {
   "cell_type": "code",
   "execution_count": 65,
   "metadata": {},
   "outputs": [
    {
     "data": {
      "text/plain": [
       "True"
      ]
     },
     "execution_count": 65,
     "metadata": {},
     "output_type": "execute_result"
    }
   ],
   "source": [
    "dt = pendulum.datetime(2000, 1, 4)\n",
    "dt in period"
   ]
  },
  {
   "cell_type": "markdown",
   "metadata": {},
   "source": [
    "## График прививок"
   ]
  },
  {
   "cell_type": "code",
   "execution_count": 66,
   "metadata": {},
   "outputs": [
    {
     "data": {
      "text/plain": [
       "'2022-08-07T00:00:00+00:00'"
      ]
     },
     "execution_count": 66,
     "metadata": {},
     "output_type": "execute_result"
    }
   ],
   "source": [
    "zero_day = pendulum.from_format('7.08.2022', 'DD.MM.YYYY')\n",
    "str(zero_day)"
   ]
  },
  {
   "cell_type": "code",
   "execution_count": 67,
   "metadata": {},
   "outputs": [],
   "source": [
    "# zero_day = pendulum.today(tz='UTC')"
   ]
  },
  {
   "cell_type": "code",
   "execution_count": 68,
   "metadata": {},
   "outputs": [
    {
     "data": {
      "text/plain": [
       "['0 day - 07.08.2022',\n",
       " '3 day - 10.08.2022',\n",
       " '7 day - 14.08.2022',\n",
       " '14 day - 21.08.2022',\n",
       " '30 day - 06.09.2022',\n",
       " '90 day - 05.11.2022']"
      ]
     },
     "execution_count": 68,
     "metadata": {},
     "output_type": "execute_result"
    }
   ],
   "source": [
    "[f'{d} day - {zero_day.add(days=d).format(\"DD.MM.YYYY\")}' for d in [0, 3, 7, 14, 30, 90]]"
   ]
  }
 ],
 "metadata": {
  "kernelspec": {
   "display_name": "Python 3.10.4 ('pythonista-VO_1mNSx-py3.10')",
   "language": "python",
   "name": "python3"
  },
  "language_info": {
   "codemirror_mode": {
    "name": "ipython",
    "version": 3
   },
   "file_extension": ".py",
   "mimetype": "text/x-python",
   "name": "python",
   "nbconvert_exporter": "python",
   "pygments_lexer": "ipython3",
   "version": "3.10.4"
  },
  "orig_nbformat": 4,
  "vscode": {
   "interpreter": {
    "hash": "13feef28c11d17301e1dcc47b3a524333952f1cd4cd0d95479f68c7bbc83c133"
   }
  }
 },
 "nbformat": 4,
 "nbformat_minor": 2
}
