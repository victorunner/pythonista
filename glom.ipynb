{
 "cells": [
  {
   "cell_type": "markdown",
   "metadata": {},
   "source": [
    "# Материалы\n",
    "\n",
    "https://glom.readthedocs.io/"
   ]
  },
  {
   "cell_type": "markdown",
   "metadata": {},
   "source": [
    "## import"
   ]
  },
  {
   "cell_type": "code",
   "execution_count": 1,
   "metadata": {},
   "outputs": [],
   "source": [
    "from glom import (\n",
    "    glom, Coalesce, T, Iter, Merge, Val,\n",
    "    Flatten, flatten, GlomError, Check,\n",
    "    SKIP, Match, Optional\n",
    ")"
   ]
  },
  {
   "cell_type": "code",
   "execution_count": 2,
   "metadata": {},
   "outputs": [
    {
     "data": {
      "text/plain": [
       "'3.10.4 (main, Jun 27 2022, 16:57:57) [GCC 11.2.0]'"
      ]
     },
     "execution_count": 2,
     "metadata": {},
     "output_type": "execute_result"
    }
   ],
   "source": [
    "import sys\n",
    "sys.version"
   ]
  },
  {
   "cell_type": "markdown",
   "metadata": {},
   "source": [
    "## Accessing Nested Data (\"deep access\")"
   ]
  },
  {
   "cell_type": "code",
   "execution_count": 3,
   "metadata": {},
   "outputs": [
    {
     "data": {
      "text/plain": [
       "(10, 10)"
      ]
     },
     "execution_count": 3,
     "metadata": {},
     "output_type": "execute_result"
    }
   ],
   "source": [
    "data = {\n",
    "    'a': {\n",
    "        'b': {\n",
    "            'c': 10\n",
    "        }\n",
    "    }\n",
    "}\n",
    "glom(data, 'a.b.c'), glom(data, T['a']['b']['c'])"
   ]
  },
  {
   "cell_type": "code",
   "execution_count": 4,
   "metadata": {},
   "outputs": [
    {
     "name": "stdout",
     "output_type": "stream",
     "text": [
      "error raised while processing, details below.\n",
      " Target-spec trace (most recent last):\n",
      " - Target: {'a': {'b': {'c': 10}}}\n",
      " - Spec: 'a.b.d'\n",
      "glom.core.PathAccessError: could not access 'd', part 2 of Path('a', 'b', 'd'), got error: KeyError('d')\n"
     ]
    }
   ],
   "source": [
    "try:\n",
    "    glom(data, 'a.b.d')\n",
    "except Exception as e:\n",
    "    print(e)"
   ]
  },
  {
   "cell_type": "markdown",
   "metadata": {},
   "source": [
    "## Going Beyond Access\n",
    "\n",
    "`target` is our data, be it a dict, list, or any other object\n",
    "\n",
    "`spec` is what we want output to be\n",
    "\n",
    "output = glom(target, spec)"
   ]
  },
  {
   "cell_type": "code",
   "execution_count": 5,
   "metadata": {},
   "outputs": [],
   "source": [
    "target = {\n",
    "    'system': {\n",
    "        'planets': [\n",
    "            {\n",
    "                'name': 'earth',\n",
    "                'moons': [\n",
    "                    {'name': 'luna'}\n",
    "                ]\n",
    "            },\n",
    "            {\n",
    "                'name': 'jupiter',\n",
    "                'moons': [\n",
    "                    {'name': 'io'},\n",
    "                    {'name': 'europa'}\n",
    "                ]\n",
    "            }\n",
    "        ]\n",
    "    }\n",
    "}"
   ]
  },
  {
   "cell_type": "code",
   "execution_count": 6,
   "metadata": {},
   "outputs": [
    {
     "data": {
      "text/plain": [
       "{'planet_names': ['earth', 'jupiter'],\n",
       " 'moon_names': [['luna'], ['io', 'europa']]}"
      ]
     },
     "execution_count": 6,
     "metadata": {},
     "output_type": "execute_result"
    }
   ],
   "source": [
    "spec = {\n",
    "    'planet_names': ('system.planets', ['name']),\n",
    "    'moon_names': ('system.planets', [('moons', ['name'])])\n",
    "}\n",
    "glom(target, spec)"
   ]
  },
  {
   "cell_type": "markdown",
   "metadata": {},
   "source": [
    "## Data-Driven Assignment\n",
    "\n",
    "Quite often APIs deliver data in dictionaries without constant key values. They use parts of the data itself as a key. This we call `data-driven` assignment."
   ]
  },
  {
   "cell_type": "code",
   "execution_count": 7,
   "metadata": {},
   "outputs": [
    {
     "data": {
      "text/plain": [
       "{'moons': {'pluto': 6, 'venus': 0, 'earth': 1}}"
      ]
     },
     "execution_count": 7,
     "metadata": {},
     "output_type": "execute_result"
    }
   ],
   "source": [
    "target = {\n",
    "   'pluto': {'moons': 6, 'population': None},\n",
    "   'venus': {'population': {'aliens': 5}},\n",
    "   'earth': {'moons': 1, 'population': {'humans': 7700000000, 'aliens': 1}},\n",
    "}\n",
    "\n",
    "spec = {\n",
    "    'moons': (\n",
    "         T.items(),\n",
    "         Iter({T[0]: (T[1], Coalesce('moons', default=0))}),\n",
    "         Merge(),\n",
    "    )\n",
    "}\n",
    "glom(target, spec)"
   ]
  },
  {
   "cell_type": "markdown",
   "metadata": {},
   "source": [
    "## True Python Native\n",
    "\n",
    "Most other implementations are limited to a particular data format or pure model, be it `jmespath` or `XPath/XSLT`. `glom` makes no such sacrifices of practicality, harnessing the full power of Python itself.\n",
    "\n",
    "With `glom`, you have full access to Python at any given moment. Pass values to functions, whether built-in, imported, or defined inline with lambda."
   ]
  },
  {
   "cell_type": "code",
   "execution_count": 8,
   "metadata": {},
   "outputs": [
    {
     "data": {
      "text/plain": [
       "{'moon_count': 70}"
      ]
     },
     "execution_count": 8,
     "metadata": {},
     "output_type": "execute_result"
    }
   ],
   "source": [
    "target = {\n",
    "    'system': {\n",
    "        'planets': [\n",
    "            {'name': 'earth', 'moons': 1},\n",
    "            {'name': 'jupiter', 'moons': 69}\n",
    "        ]\n",
    "    }\n",
    "}\n",
    "glom(target, {'moon_count': ('system.planets', ['moons'], sum)})"
   ]
  },
  {
   "cell_type": "markdown",
   "metadata": {},
   "source": [
    "## Мои попытки"
   ]
  },
  {
   "cell_type": "code",
   "execution_count": 9,
   "metadata": {},
   "outputs": [],
   "source": [
    "persons = [\n",
    "    {\n",
    "        'name': 'Igor',\n",
    "        'age': 55,\n",
    "        'children_count': 2\n",
    "    },\n",
    "    {\n",
    "        'name': 'Mike',\n",
    "        'age': 40,\n",
    "        'children_count': 5\n",
    "    },\n",
    "    {\n",
    "        'name': 'Olga',\n",
    "        'age': 20\n",
    "    },\n",
    "]"
   ]
  },
  {
   "cell_type": "code",
   "execution_count": 10,
   "metadata": {},
   "outputs": [
    {
     "data": {
      "text/plain": [
       "{'children_total_count': 7,\n",
       " 'some_val': 'val',\n",
       " 'oldest employee': 55,\n",
       " 'names': ['Igor', 'Mike', 'Olga']}"
      ]
     },
     "execution_count": 10,
     "metadata": {},
     "output_type": "execute_result"
    }
   ],
   "source": [
    "spec = {\n",
    "    'children_total_count': ([Coalesce('children_count', default=0)], sum),\n",
    "    'some_val': Val('val'),\n",
    "    'oldest employee': (['age'], max),\n",
    "    'names': ['name']\n",
    "}\n",
    "glom(persons, spec)"
   ]
  },
  {
   "cell_type": "code",
   "execution_count": 11,
   "metadata": {},
   "outputs": [
    {
     "data": {
      "text/plain": [
       "[]"
      ]
     },
     "execution_count": 11,
     "metadata": {},
     "output_type": "execute_result"
    }
   ],
   "source": [
    "# Target: empty list\n",
    "glom([], ['a'])"
   ]
  },
  {
   "cell_type": "markdown",
   "metadata": {},
   "source": [
    "--------------------------------------"
   ]
  },
  {
   "cell_type": "markdown",
   "metadata": {},
   "source": [
    "## Iter"
   ]
  },
  {
   "cell_type": "code",
   "execution_count": 12,
   "metadata": {},
   "outputs": [
    {
     "data": {
      "text/plain": [
       "'1-2-3-'"
      ]
     },
     "execution_count": 12,
     "metadata": {},
     "output_type": "execute_result"
    }
   ],
   "source": [
    "glom(['10', '20', '30'], (Iter(T[0]).map(T + '-'), lambda x:''.join(x)))"
   ]
  },
  {
   "cell_type": "code",
   "execution_count": 13,
   "metadata": {},
   "outputs": [
    {
     "data": {
      "text/plain": [
       "[{'a': 1, 'b': 'str'}]"
      ]
     },
     "execution_count": 13,
     "metadata": {},
     "output_type": "execute_result"
    }
   ],
   "source": [
    "glom([{'a': 1, 'b': 'str'}, {'a': 10}], Iter().filter(lambda T: T['a'] < 10).all())"
   ]
  },
  {
   "cell_type": "code",
   "execution_count": 14,
   "metadata": {},
   "outputs": [
    {
     "data": {
      "text/plain": [
       "[{'a': 1}]"
      ]
     },
     "execution_count": 14,
     "metadata": {},
     "output_type": "execute_result"
    }
   ],
   "source": [
    "glom([{'a': 1}, {'a': 10}], Iter().filter(Check(T['a'], one_of=(1, 2), default=SKIP)).all())"
   ]
  },
  {
   "cell_type": "markdown",
   "metadata": {},
   "source": [
    "## Match"
   ]
  },
  {
   "cell_type": "code",
   "execution_count": 15,
   "metadata": {},
   "outputs": [],
   "source": [
    "target = [\n",
    "    {'id': 1, 'email': 'alice@example.com'},\n",
    "    {'id': 2, 'email': 'bob@example.com', 'name': 'Victor'}\n",
    "]"
   ]
  },
  {
   "cell_type": "code",
   "execution_count": 16,
   "metadata": {},
   "outputs": [
    {
     "data": {
      "text/plain": [
       "['alice@example.com', 'bob@example.com']"
      ]
     },
     "execution_count": 16,
     "metadata": {},
     "output_type": "execute_result"
    }
   ],
   "source": [
    "glom(target, ['email'])"
   ]
  },
  {
   "cell_type": "code",
   "execution_count": 17,
   "metadata": {},
   "outputs": [
    {
     "data": {
      "text/plain": [
       "[{'name': 'Default', 'id': 1, 'email': 'alice@example.com'},\n",
       " {'name': 'Victor', 'id': 2, 'email': 'bob@example.com'}]"
      ]
     },
     "execution_count": 17,
     "metadata": {},
     "output_type": "execute_result"
    }
   ],
   "source": [
    "glom(target, Match([{'id': int, 'email': str, Optional('name', default='Default'): str}]))"
   ]
  },
  {
   "cell_type": "code",
   "execution_count": 18,
   "metadata": {},
   "outputs": [
    {
     "data": {
      "text/plain": [
       "[1, 2, 3]"
      ]
     },
     "execution_count": 18,
     "metadata": {},
     "output_type": "execute_result"
    }
   ],
   "source": [
    "glom([1, 2, 3], Match([int]))"
   ]
  },
  {
   "cell_type": "markdown",
   "metadata": {},
   "source": [
    "## Check"
   ]
  },
  {
   "cell_type": "code",
   "execution_count": 19,
   "metadata": {},
   "outputs": [],
   "source": [
    "target = {'a': {'option': 10, 'b': 'value'}}"
   ]
  },
  {
   "cell_type": "code",
   "execution_count": 20,
   "metadata": {},
   "outputs": [
    {
     "data": {
      "text/plain": [
       "{'x': 'value'}"
      ]
     },
     "execution_count": 20,
     "metadata": {},
     "output_type": "execute_result"
    }
   ],
   "source": [
    "glom(\n",
    "    target,\n",
    "    {'x': ('a', Check('option', type=int, equal_to=10, default={'b': 'other_value'}), 'b')}\n",
    ")"
   ]
  },
  {
   "cell_type": "code",
   "execution_count": 21,
   "metadata": {},
   "outputs": [
    {
     "data": {
      "text/plain": [
       "{'x': 'default_value'}"
      ]
     },
     "execution_count": 21,
     "metadata": {},
     "output_type": "execute_result"
    }
   ],
   "source": [
    "glom(\n",
    "    target,\n",
    "    {'x': ('a', Check('option', type=str, equal_to=10, default={'b': 'default_value'}), 'b')}\n",
    ")"
   ]
  },
  {
   "cell_type": "code",
   "execution_count": 22,
   "metadata": {},
   "outputs": [
    {
     "data": {
      "text/plain": [
       "['cat', 'dog']"
      ]
     },
     "execution_count": 22,
     "metadata": {},
     "output_type": "execute_result"
    }
   ],
   "source": [
    "glom(['cat', 1, 'dog', 2], [Check(type=str, default=SKIP)])"
   ]
  },
  {
   "cell_type": "markdown",
   "metadata": {},
   "source": [
    "## Flatten"
   ]
  },
  {
   "cell_type": "code",
   "execution_count": 23,
   "metadata": {},
   "outputs": [
    {
     "data": {
      "text/plain": [
       "[[1, 2], [3, 4], [5, 6], [7], 8]"
      ]
     },
     "execution_count": 23,
     "metadata": {},
     "output_type": "execute_result"
    }
   ],
   "source": [
    "target = [[[1, 2]], [[3, 4], [5, 6]], [[7]], [8]]\n",
    "flatten(target, levels=1)  # default"
   ]
  },
  {
   "cell_type": "code",
   "execution_count": 24,
   "metadata": {},
   "outputs": [
    {
     "data": {
      "text/plain": [
       "[1, 2, 3, 4, 5, 6, 7]"
      ]
     },
     "execution_count": 24,
     "metadata": {},
     "output_type": "execute_result"
    }
   ],
   "source": [
    "target = [[[1, 2]], [[3, 4], [5, 6]], [[7]]]\n",
    "flatten(target, levels=2)"
   ]
  },
  {
   "cell_type": "code",
   "execution_count": 25,
   "metadata": {},
   "outputs": [
    {
     "name": "stdout",
     "output_type": "stream",
     "text": [
      "error raised while processing, details below.\n",
      " Target-spec trace (most recent last):\n",
      " - Target: [[[1, 2]], [[3, 4], [5, 6]], [[7]], [8]]\n",
      " - Spec: (T, Flatten(init='lazy'), Flatten())\n",
      " - Spec: T\n",
      " - Spec: Flatten(init='lazy')\n",
      " - Target: <itertools.chain object at 0x7ff704768760>\n",
      " - Spec: Flatten()\n",
      "TypeError: 'int' object is not iterable\n"
     ]
    }
   ],
   "source": [
    "target_complex = [[[1, 2]], [[3, 4], [5, 6]], [[7]], [8]]\n",
    "\n",
    "try:\n",
    "    flatten(target_complex, levels=2)\n",
    "except GlomError as err:\n",
    "    print(err)"
   ]
  },
  {
   "cell_type": "code",
   "execution_count": 26,
   "metadata": {},
   "outputs": [
    {
     "data": {
      "text/plain": [
       "[1, 2, 6, 7]"
      ]
     },
     "execution_count": 26,
     "metadata": {},
     "output_type": "execute_result"
    }
   ],
   "source": [
    "target = [[1, 2], [3, 4, 5], [6, 7], [8]]\n",
    "glom(target, Flatten(Iter().filter(lambda x: len(x) == 2)))"
   ]
  },
  {
   "cell_type": "code",
   "execution_count": 27,
   "metadata": {},
   "outputs": [
    {
     "data": {
      "text/plain": [
       "[1, 2, 3, 4, 5, 6, 7, 8]"
      ]
     },
     "execution_count": 27,
     "metadata": {},
     "output_type": "execute_result"
    }
   ],
   "source": [
    "from more_itertools import collapse\n",
    "\n",
    "# На помощь приходит `more_itertools`\n",
    "\n",
    "list(collapse(target_complex))"
   ]
  },
  {
   "cell_type": "code",
   "execution_count": 28,
   "metadata": {},
   "outputs": [
    {
     "data": {
      "text/plain": [
       "[1]"
      ]
     },
     "execution_count": 28,
     "metadata": {},
     "output_type": "execute_result"
    }
   ],
   "source": [
    "list(collapse(1))"
   ]
  },
  {
   "cell_type": "code",
   "execution_count": 29,
   "metadata": {},
   "outputs": [
    {
     "data": {
      "text/plain": [
       "['str']"
      ]
     },
     "execution_count": 29,
     "metadata": {},
     "output_type": "execute_result"
    }
   ],
   "source": [
    "list(collapse('str'))"
   ]
  }
 ],
 "metadata": {
  "kernelspec": {
   "display_name": "Python 3.10.4 ('pythonista-VO_1mNSx-py3.10')",
   "language": "python",
   "name": "python3"
  },
  "language_info": {
   "codemirror_mode": {
    "name": "ipython",
    "version": 3
   },
   "file_extension": ".py",
   "mimetype": "text/x-python",
   "name": "python",
   "nbconvert_exporter": "python",
   "pygments_lexer": "ipython3",
   "version": "3.10.4"
  },
  "orig_nbformat": 4,
  "vscode": {
   "interpreter": {
    "hash": "13feef28c11d17301e1dcc47b3a524333952f1cd4cd0d95479f68c7bbc83c133"
   }
  }
 },
 "nbformat": 4,
 "nbformat_minor": 2
}
