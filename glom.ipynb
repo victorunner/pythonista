{
 "cells": [
  {
   "cell_type": "markdown",
   "metadata": {},
   "source": [
    "# Материалы\n",
    "\n",
    "https://glom.readthedocs.io/"
   ]
  },
  {
   "cell_type": "code",
   "execution_count": 1,
   "metadata": {},
   "outputs": [],
   "source": [
    "from glom import glom, Coalesce, T, Iter, Merge, Val"
   ]
  },
  {
   "cell_type": "code",
   "execution_count": 2,
   "metadata": {},
   "outputs": [
    {
     "data": {
      "text/plain": [
       "'3.10.4 (main, Jun 27 2022, 16:57:57) [GCC 11.2.0]'"
      ]
     },
     "execution_count": 2,
     "metadata": {},
     "output_type": "execute_result"
    }
   ],
   "source": [
    "import sys\n",
    "sys.version"
   ]
  },
  {
   "cell_type": "markdown",
   "metadata": {},
   "source": [
    "## Accessing Nested Data (\"deep access\")"
   ]
  },
  {
   "cell_type": "code",
   "execution_count": 3,
   "metadata": {},
   "outputs": [
    {
     "data": {
      "text/plain": [
       "(10, 10)"
      ]
     },
     "execution_count": 3,
     "metadata": {},
     "output_type": "execute_result"
    }
   ],
   "source": [
    "data = {\n",
    "    'a': {\n",
    "        'b': {\n",
    "            'c': 10\n",
    "        }\n",
    "    }\n",
    "}\n",
    "glom(data, 'a.b.c'), glom(data, T['a']['b']['c'])"
   ]
  },
  {
   "cell_type": "code",
   "execution_count": 4,
   "metadata": {},
   "outputs": [
    {
     "name": "stdout",
     "output_type": "stream",
     "text": [
      "error raised while processing, details below.\n",
      " Target-spec trace (most recent last):\n",
      " - Target: {'a': {'b': {'c': 10}}}\n",
      " - Spec: 'a.b.d'\n",
      "glom.core.PathAccessError: could not access 'd', part 2 of Path('a', 'b', 'd'), got error: KeyError('d')\n"
     ]
    }
   ],
   "source": [
    "try:\n",
    "    glom(data, 'a.b.d')\n",
    "except Exception as e:\n",
    "    print(e)"
   ]
  },
  {
   "cell_type": "markdown",
   "metadata": {},
   "source": [
    "## Going Beyond Access\n",
    "\n",
    "`target` is our data, be it a dict, list, or any other object\n",
    "\n",
    "`spec` is what we want output to be\n",
    "\n",
    "output = glom(target, spec)"
   ]
  },
  {
   "cell_type": "code",
   "execution_count": 5,
   "metadata": {},
   "outputs": [],
   "source": [
    "target = {\n",
    "    'system': {\n",
    "        'planets': [\n",
    "            {\n",
    "                'name': 'earth',\n",
    "                'moons': [\n",
    "                    {'name': 'luna'}\n",
    "                ]\n",
    "            },\n",
    "            {\n",
    "                'name': 'jupiter',\n",
    "                'moons': [\n",
    "                    {'name': 'io'},\n",
    "                    {'name': 'europa'}\n",
    "                ]\n",
    "            }\n",
    "        ]\n",
    "    }\n",
    "}"
   ]
  },
  {
   "cell_type": "code",
   "execution_count": 6,
   "metadata": {},
   "outputs": [
    {
     "data": {
      "text/plain": [
       "{'planet_names': ['earth', 'jupiter'],\n",
       " 'moon_names': [['luna'], ['io', 'europa']]}"
      ]
     },
     "execution_count": 6,
     "metadata": {},
     "output_type": "execute_result"
    }
   ],
   "source": [
    "spec = {\n",
    "    'planet_names': ('system.planets', ['name']),\n",
    "    'moon_names': ('system.planets', [('moons', ['name'])])\n",
    "}\n",
    "glom(target, spec)"
   ]
  },
  {
   "cell_type": "markdown",
   "metadata": {},
   "source": [
    "## Data-Driven Assignment\n",
    "\n",
    "Quite often APIs deliver data in dictionaries without constant key values. They use parts of the data itself as a key. This we call `data-driven` assignment."
   ]
  },
  {
   "cell_type": "code",
   "execution_count": 7,
   "metadata": {},
   "outputs": [
    {
     "data": {
      "text/plain": [
       "{'moons': {'pluto': 6, 'venus': 0, 'earth': 1}}"
      ]
     },
     "execution_count": 7,
     "metadata": {},
     "output_type": "execute_result"
    }
   ],
   "source": [
    "target = {\n",
    "   'pluto': {'moons': 6, 'population': None},\n",
    "   'venus': {'population': {'aliens': 5}},\n",
    "   'earth': {'moons': 1, 'population': {'humans': 7700000000, 'aliens': 1}},\n",
    "}\n",
    "\n",
    "spec = {\n",
    "    'moons': (\n",
    "         T.items(),\n",
    "         Iter({T[0]: (T[1], Coalesce('moons', default=0))}),\n",
    "         Merge(),\n",
    "    )\n",
    "}\n",
    "glom(target, spec)"
   ]
  },
  {
   "cell_type": "markdown",
   "metadata": {},
   "source": [
    "## True Python Native\n",
    "\n",
    "Most other implementations are limited to a particular data format or pure model, be it `jmespath` or `XPath/XSLT`. `glom` makes no such sacrifices of practicality, harnessing the full power of Python itself.\n",
    "\n",
    "With `glom`, you have full access to Python at any given moment. Pass values to functions, whether built-in, imported, or defined inline with lambda."
   ]
  },
  {
   "cell_type": "code",
   "execution_count": 8,
   "metadata": {},
   "outputs": [
    {
     "data": {
      "text/plain": [
       "{'moon_count': 70}"
      ]
     },
     "execution_count": 8,
     "metadata": {},
     "output_type": "execute_result"
    }
   ],
   "source": [
    "target = {\n",
    "    'system': {\n",
    "        'planets': [\n",
    "            {'name': 'earth', 'moons': 1},\n",
    "            {'name': 'jupiter', 'moons': 69}\n",
    "        ]\n",
    "    }\n",
    "}\n",
    "glom(target, {'moon_count': ('system.planets', ['moons'], sum)})"
   ]
  },
  {
   "cell_type": "markdown",
   "metadata": {},
   "source": [
    "## Мои попытки"
   ]
  },
  {
   "cell_type": "code",
   "execution_count": 9,
   "metadata": {},
   "outputs": [],
   "source": [
    "persons = [\n",
    "    {\n",
    "        'name': 'Igor',\n",
    "        'age': 55,\n",
    "        'children_count': 2\n",
    "    },\n",
    "    {\n",
    "        'name': 'Mike',\n",
    "        'age': 40,\n",
    "        'children_count': 5\n",
    "    },\n",
    "    {\n",
    "        'name': 'Olga',\n",
    "        'age': 20\n",
    "    },\n",
    "]"
   ]
  },
  {
   "cell_type": "code",
   "execution_count": 10,
   "metadata": {},
   "outputs": [
    {
     "data": {
      "text/plain": [
       "{'children_total_count': 7,\n",
       " 'some_val': 'val',\n",
       " 'oldest employee': 55,\n",
       " 'names': ['Igor', 'Mike', 'Olga']}"
      ]
     },
     "execution_count": 10,
     "metadata": {},
     "output_type": "execute_result"
    }
   ],
   "source": [
    "spec = {\n",
    "    'children_total_count': ([Coalesce('children_count', default=0)], sum),\n",
    "    'some_val': Val('val'),\n",
    "    'oldest employee': (['age'], max),\n",
    "    'names': ['name']\n",
    "}\n",
    "glom(persons, spec)"
   ]
  },
  {
   "cell_type": "markdown",
   "metadata": {},
   "source": [
    "--------------------------------------"
   ]
  },
  {
   "cell_type": "markdown",
   "metadata": {},
   "source": [
    "## Iter"
   ]
  },
  {
   "cell_type": "code",
   "execution_count": 11,
   "metadata": {},
   "outputs": [
    {
     "data": {
      "text/plain": [
       "'1-2-3-'"
      ]
     },
     "execution_count": 11,
     "metadata": {},
     "output_type": "execute_result"
    }
   ],
   "source": [
    "glom(['10', '20', '30'], (Iter(T[0]).map(T + '-'), lambda x:''.join(x)))"
   ]
  }
 ],
 "metadata": {
  "kernelspec": {
   "display_name": "Python 3.10.4 ('pythonista-VO_1mNSx-py3.10')",
   "language": "python",
   "name": "python3"
  },
  "language_info": {
   "codemirror_mode": {
    "name": "ipython",
    "version": 3
   },
   "file_extension": ".py",
   "mimetype": "text/x-python",
   "name": "python",
   "nbconvert_exporter": "python",
   "pygments_lexer": "ipython3",
   "version": "3.10.4"
  },
  "orig_nbformat": 4,
  "vscode": {
   "interpreter": {
    "hash": "13feef28c11d17301e1dcc47b3a524333952f1cd4cd0d95479f68c7bbc83c133"
   }
  }
 },
 "nbformat": 4,
 "nbformat_minor": 2
}
