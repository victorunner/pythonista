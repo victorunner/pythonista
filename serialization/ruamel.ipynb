{
 "cells": [
  {
   "cell_type": "markdown",
   "metadata": {},
   "source": [
    "## Материалы\n",
    "\n",
    "https://yaml.readthedocs.io/"
   ]
  },
  {
   "cell_type": "code",
   "execution_count": 1,
   "metadata": {},
   "outputs": [],
   "source": [
    "import sys\n",
    "from ruamel.yaml import YAML"
   ]
  },
  {
   "cell_type": "code",
   "execution_count": 2,
   "metadata": {},
   "outputs": [
    {
     "data": {
      "text/plain": [
       "'0.17.21'"
      ]
     },
     "execution_count": 2,
     "metadata": {},
     "output_type": "execute_result"
    }
   ],
   "source": [
    "import ruamel\n",
    "ruamel.yaml.__version__"
   ]
  },
  {
   "cell_type": "code",
   "execution_count": 3,
   "metadata": {},
   "outputs": [],
   "source": [
    "from ruamel.yaml.emitter import Emitter\n",
    "Emitter.MAX_SIMPLE_KEY_LENGTH = 1024"
   ]
  },
  {
   "cell_type": "markdown",
   "metadata": {},
   "source": [
    "### typ='safe'"
   ]
  },
  {
   "cell_type": "code",
   "execution_count": 4,
   "metadata": {},
   "outputs": [],
   "source": [
    "yaml_str_safe = \"\"\"\\\n",
    "3: abc\n",
    "conf:\n",
    "    10: 'def'\n",
    "    3: gij     # h is missing\n",
    "    4: {1: 3}\n",
    "more:\n",
    "- what\n",
    "- else\n",
    "- b: 2\n",
    "- 1234567890123456789012345678901234567890123456789012345678901234567890123456789012345678901234567890123456789012345678900000000000000000000000000000000000000000: 10\n",
    "animals: [dog , cat , mouse]\n",
    "animals1:\n",
    "- dog\n",
    "- cat\n",
    "- mouse\n",
    "\"\"\""
   ]
  },
  {
   "cell_type": "code",
   "execution_count": 5,
   "metadata": {},
   "outputs": [
    {
     "name": "stdout",
     "output_type": "stream",
     "text": [
      "3: abc\n",
      "conf:\n",
      "  3: gij\n",
      "  4:\n",
      "    1: 3\n",
      "  10: def\n",
      "more:\n",
      "- what\n",
      "- else\n",
      "- b: 2\n",
      "- ? 1234567890123456789012345678901234567890123456789012345678901234567890123456789012345678901234567890123456789012345678900000000000000000000000000000000000000000\n",
      "  : 10\n",
      "animals:\n",
      "- dog\n",
      "- cat\n",
      "- mouse\n",
      "animals1:\n",
      "- dog\n",
      "- cat\n",
      "- mouse\n"
     ]
    }
   ],
   "source": [
    "# default_flow_style = False\n",
    "yaml = YAML(typ='safe')\n",
    "yaml.indent(mapping=5, sequence=10, offset=3)\n",
    "yaml.default_flow_style = False\n",
    "data = yaml.load(yaml_str_safe)\n",
    "yaml.dump(data, sys.stdout)"
   ]
  },
  {
   "cell_type": "code",
   "execution_count": 6,
   "metadata": {},
   "outputs": [
    {
     "name": "stdout",
     "output_type": "stream",
     "text": [
      "!!omap\n",
      "   -      10: a\n",
      "   -      1: b\n",
      "   -      0:\n",
      "               1: 1\n",
      "               2: 2\n"
     ]
    }
   ],
   "source": [
    "# default_flow_style = False, pure = True\n",
    "from collections import OrderedDict\n",
    "\n",
    "od = OrderedDict()\n",
    "od[10] = 'a'\n",
    "od[1] = 'b'\n",
    "od[0] = {1: 1, 2: 2}\n",
    "\n",
    "yaml = YAML(typ='safe', pure=True)\n",
    "yaml.indent(mapping=5, sequence=10, offset=3)\n",
    "yaml.default_flow_style = False\n",
    "yaml.dump(od, sys.stdout)"
   ]
  },
  {
   "cell_type": "code",
   "execution_count": 7,
   "metadata": {},
   "outputs": [
    {
     "name": "stdout",
     "output_type": "stream",
     "text": [
      "{3: abc, conf: {3: gij, 4: {1: 3}, 10: def}, more: [what, else, {b: 2}, {? 1234567890123456789012345678901234567890123456789012345678901234567890123456789012345678901234567890123456789012345678900000000000000000000000000000000000000000\n",
      "      : 10}], animals: [dog, cat, mouse], animals1: [dog, cat, mouse]}\n"
     ]
    }
   ],
   "source": [
    "# default_flow_style = True\n",
    "yaml = YAML(typ='safe')\n",
    "data = yaml.load(yaml_str_safe)\n",
    "yaml.default_flow_style = True\n",
    "yaml.dump(data, sys.stdout)"
   ]
  },
  {
   "cell_type": "code",
   "execution_count": 8,
   "metadata": {},
   "outputs": [
    {
     "name": "stdout",
     "output_type": "stream",
     "text": [
      "3: abc\n",
      "conf:\n",
      "  3: gij\n",
      "  4: {1: 3}\n",
      "  10: def\n",
      "more:\n",
      "- what\n",
      "- else\n",
      "- {b: 2}\n",
      "- {? 1234567890123456789012345678901234567890123456789012345678901234567890123456789012345678901234567890123456789012345678900000000000000000000000000000000000000000\n",
      "  : 10}\n",
      "animals: [dog, cat, mouse]\n",
      "animals1: [dog, cat, mouse]\n"
     ]
    }
   ],
   "source": [
    "# default_flow_style = None\n",
    "yaml = YAML(typ='safe')\n",
    "data = yaml.load(yaml_str_safe)\n",
    "yaml.default_flow_style = None\n",
    "yaml.dump(data, sys.stdout)"
   ]
  },
  {
   "cell_type": "markdown",
   "metadata": {},
   "source": [
    "### typ='rt'"
   ]
  },
  {
   "cell_type": "code",
   "execution_count": 9,
   "metadata": {},
   "outputs": [],
   "source": [
    "yaml_str_rt = \"\"\"\\\n",
    "3: abc\n",
    "conf:\n",
    "    100: 'def'\n",
    "    1: gij     # h is missing\n",
    "    2: {1: 3}\n",
    "    3: 0  # implicit tag (plain scalars without explicitly defined tags are subject to implicit tag resolution)\n",
    "    4: !!int \"0\"  # explicit tag (standard YAML tags)\n",
    "    5: !!python/tuple [1, 2]  # explicit tag (Python-specific tags)\n",
    "    60: !!python/name:yaml.dump  # complex Python tag - function (explicit tag)\n",
    "    6: !!python/module:yaml  # complex Python tag - module (explicit tag)\n",
    "    70: !!a\n",
    "    71: !!b [123]\n",
    "    72: !!c {a: 1, b: 2}\n",
    "    73: !!d abc\n",
    "    7: !Monster  # your own application-specific tag\n",
    "       ac: 16\n",
    "       attacks: [BITE, HURT]\n",
    "       hp: [3, 6]\n",
    "       name: Cave lizard\n",
    "    8: !!python/object:__main__.Hero {hp: -3, name: Galain Ysseleg, sp: 2}\n",
    "    9: !!python/name:mermaid2.fence.fence_mermaid\n",
    "    state: !!python/tuple\n",
    "    - !!python/name:pymdownx.slugs._uslugify\n",
    "    - !!python/tuple []\n",
    "    - case: lower\n",
    "      percent_encode: false\n",
    "      normalize: NFC\n",
    "    - null\n",
    "more:\n",
    "- what\n",
    "- else\n",
    "- b: 2\n",
    "- 1234567890123456789012345678901234567890123456789012345678901234567890123456789012345678901234567890123456789012345678900000000000000000000000000000000000000000: 10\n",
    "animals: [dog , cat , mouse]\n",
    "animals1:\n",
    "- dog\n",
    "- cat\n",
    "- mouse\n",
    "- null\n",
    "- ворона\n",
    "- null\n",
    "\"\"\""
   ]
  },
  {
   "cell_type": "code",
   "execution_count": 10,
   "metadata": {},
   "outputs": [
    {
     "name": "stdout",
     "output_type": "stream",
     "text": [
      "3: abc\n",
      "conf:\n",
      "  100: 'def'\n",
      "  1: gij       # h is missing\n",
      "  2: {1: 3}\n",
      "  3: 0    # implicit tag (plain scalars without explicitly defined tags are subject to implicit tag resolution)\n",
      "  4: 0            # explicit tag (standard YAML tags)\n",
      "  5: !!python/tuple [1, 2]    # explicit tag (Python-specific tags)\n",
      "  60: !%21python/name:yaml.dump\n",
      "                                 # complex Python tag - function (explicit tag)\n",
      "  6: !%21python/module:yaml\n",
      "                             # complex Python tag - module (explicit tag)\n",
      "  70: !%21a\n",
      "  71: !!b [123]\n",
      "  72: !!c {a: 1, b: 2}\n",
      "  73: !%21d abc\n",
      "  7: !Monster\n",
      "                 # your own application-specific tag\n",
      "    ac: 16\n",
      "    attacks: [BITE, HURT]\n",
      "    hp: [3, 6]\n",
      "    name: Cave lizard\n",
      "  8: !!python/object:__main__.Hero {hp: -3, name: Galain Ysseleg, sp: 2}\n",
      "  9: !%21python/name:mermaid2.fence.fence_mermaid\n",
      "  state: !!python/tuple\n",
      "  - !%21python/name:pymdownx.slugs._uslugify\n",
      "  - !!python/tuple []\n",
      "  - case: lower\n",
      "    percent_encode: false\n",
      "    normalize: NFC\n",
      "  - \n",
      "more:\n",
      "- what\n",
      "- else\n",
      "- b: 2\n",
      "- 1234567890123456789012345678901234567890123456789012345678901234567890123456789012345678901234567890123456789012345678900000000000000000000000000000000000000000: 10\n",
      "animals: [dog, cat, mouse]\n",
      "animals1:\n",
      "- dog\n",
      "- cat\n",
      "- mouse\n",
      "- \n",
      "- ворона\n",
      "- \n"
     ]
    }
   ],
   "source": [
    "def unescape(s):\n",
    "    return s.replace('!%21', '!!')\n",
    "\n",
    "yaml = YAML(typ='rt')\n",
    "yaml.preserve_quotes = True\n",
    "yaml.width = 999\n",
    "data = yaml.load(yaml_str_rt)\n",
    "# data['conf'][3] = 'abc'\n",
    "yaml.dump(data, sys.stdout)#, transform=unescape)"
   ]
  },
  {
   "cell_type": "code",
   "execution_count": 11,
   "metadata": {},
   "outputs": [
    {
     "data": {
      "text/plain": [
       "ordereddict([(3, 'abc'), ('conf', ordereddict([(100, 'def'), (1, 'gij'), (2, ordereddict([(1, 3)])), (3, 0), (4, 0), (5, [1, 2]), (60, <ruamel.yaml.comments.TaggedScalar object at 0x7f4cbad441c0>), (6, <ruamel.yaml.comments.TaggedScalar object at 0x7f4cbad44220>), (70, <ruamel.yaml.comments.TaggedScalar object at 0x7f4cbad44a30>), (71, [123]), (72, ordereddict([('a', 1), ('b', 2)])), (73, <ruamel.yaml.comments.TaggedScalar object at 0x7f4cbad47940>), (7, ordereddict([('ac', 16), ('attacks', ['BITE', 'HURT']), ('hp', [3, 6]), ('name', 'Cave lizard')])), (8, ordereddict([('hp', -3), ('name', 'Galain Ysseleg'), ('sp', 2)])), (9, <ruamel.yaml.comments.TaggedScalar object at 0x7f4cbad45660>), ('state', [<ruamel.yaml.comments.TaggedScalar object at 0x7f4cbad469b0>, [], ordereddict([('case', 'lower'), ('percent_encode', False), ('normalize', 'NFC')]), None])])), ('more', ['what', 'else', ordereddict([('b', 2)]), ordereddict([(1234567890123456789012345678901234567890123456789012345678901234567890123456789012345678901234567890123456789012345678900000000000000000000000000000000000000000, 10)])]), ('animals', ['dog', 'cat', 'mouse']), ('animals1', ['dog', 'cat', 'mouse', None, 'ворона', None])])"
      ]
     },
     "execution_count": 11,
     "metadata": {},
     "output_type": "execute_result"
    }
   ],
   "source": [
    "data"
   ]
  },
  {
   "cell_type": "code",
   "execution_count": 12,
   "metadata": {},
   "outputs": [
    {
     "data": {
      "text/plain": [
       "ruamel.yaml.comments.CommentedMap"
      ]
     },
     "execution_count": 12,
     "metadata": {},
     "output_type": "execute_result"
    }
   ],
   "source": [
    "type(data)"
   ]
  },
  {
   "cell_type": "code",
   "execution_count": 13,
   "metadata": {},
   "outputs": [
    {
     "name": "stdout",
     "output_type": "stream",
     "text": [
      "3: abc\n",
      "conf:\n",
      "  100: 'def'\n",
      "  1: gij       # h is missing\n",
      "  2: {1: 3}\n",
      "  3: 0    # implicit tag (plain scalars without explicitly defined tags are subject to implicit tag resolution)\n",
      "  4: 0            # explicit tag (standard YAML tags)\n",
      "  5: !!python/tuple [1, 2]    # explicit tag (Python-specific tags)\n",
      "  60: !!python/name:yaml.dump\n",
      "                                 # complex Python tag - function (explicit tag)\n",
      "  6: !!python/module:yaml\n",
      "                             # complex Python tag - module (explicit tag)\n",
      "  70: !!a\n",
      "  71: !!b [123]\n",
      "  72: !!c {a: 1, b: 2}\n",
      "  73: !!d abc\n",
      "  7: !Monster\n",
      "                 # your own application-specific tag\n",
      "    ac: 16\n",
      "    attacks: [BITE, HURT]\n",
      "    hp: [3, 6]\n",
      "    name: Cave lizard\n",
      "  8: !!python/object:__main__.Hero {hp: -3, name: Galain Ysseleg, sp: 2}\n",
      "  9: !!python/name:mermaid2.fence.fence_mermaid\n",
      "  state: !!python/tuple\n",
      "  - !!python/name:pymdownx.slugs._uslugify\n",
      "  - !!python/tuple []\n",
      "  - case: lower\n",
      "    percent_encode: false\n",
      "    normalize: NFC\n",
      "  - \n",
      "more:\n",
      "- what\n",
      "- else\n",
      "- b: 2\n",
      "- 1234567890123456789012345678901234567890123456789012345678901234567890123456789012345678901234567890123456789012345678900000000000000000000000000000000000000000: 10\n",
      "animals: [dog, cat, mouse]\n",
      "animals1:\n",
      "- dog\n",
      "- cat\n",
      "- mouse\n",
      "- \n",
      "- ворона\n",
      "- \n",
      " xxx\n"
     ]
    }
   ],
   "source": [
    "from ruamel.yaml.compat import StringIO\n",
    "\n",
    "stream = StringIO()\n",
    "yaml.dump(data, stream, transform=unescape)\n",
    "print(stream.getvalue(), 'xxx')"
   ]
  }
 ],
 "metadata": {
  "kernelspec": {
   "display_name": "Python 3.10.4 ('pythonista-VO_1mNSx-py3.10')",
   "language": "python",
   "name": "python3"
  },
  "language_info": {
   "codemirror_mode": {
    "name": "ipython",
    "version": 3
   },
   "file_extension": ".py",
   "mimetype": "text/x-python",
   "name": "python",
   "nbconvert_exporter": "python",
   "pygments_lexer": "ipython3",
   "version": "3.10.4"
  },
  "orig_nbformat": 4,
  "vscode": {
   "interpreter": {
    "hash": "13feef28c11d17301e1dcc47b3a524333952f1cd4cd0d95479f68c7bbc83c133"
   }
  }
 },
 "nbformat": 4,
 "nbformat_minor": 2
}
