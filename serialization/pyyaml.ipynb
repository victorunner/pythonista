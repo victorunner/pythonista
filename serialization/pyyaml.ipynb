{
 "cells": [
  {
   "cell_type": "markdown",
   "metadata": {},
   "source": [
    "Материалы:\n",
    "\n",
    "- https://pyyaml.org/wiki/PyYAMLDocumentation\n",
    "- https://realpython.com/python-yaml/#dumping-python-objects-to-yaml-documents\n",
    "- https://matthewpburruss.com/post/yaml/"
   ]
  },
  {
   "cell_type": "code",
   "execution_count": 1,
   "metadata": {},
   "outputs": [
    {
     "data": {
      "text/plain": [
       "'3.10.4 (main, Jun 27 2022, 16:57:57) [GCC 11.2.0]'"
      ]
     },
     "execution_count": 1,
     "metadata": {},
     "output_type": "execute_result"
    }
   ],
   "source": [
    "import sys\n",
    "import yaml\n",
    "from dataclasses import dataclass\n",
    "sys.version"
   ]
  },
  {
   "cell_type": "code",
   "execution_count": 2,
   "metadata": {},
   "outputs": [],
   "source": [
    "@dataclass\n",
    "class Person:\n",
    "   first_name: str\n",
    "   last_name: str"
   ]
  },
  {
   "cell_type": "markdown",
   "metadata": {},
   "source": [
    "Subclassing `YAMLObject` is an easy way to define tags, constructors, and representers for your classes.\n",
    "\n",
    "You only need to override the `yaml_tag` attribute. If you want to define your custom constructor and representer, redefine the `from_yaml` and `to_yaml` method correspondingly."
   ]
  },
  {
   "cell_type": "code",
   "execution_count": 3,
   "metadata": {},
   "outputs": [],
   "source": [
    "# yaml.YAMLObject uses metaclass magic to register a constructor,\n",
    "# which transforms a YAML node to a class instance, and a representer,\n",
    "# which serializes a class instance to a YAML node.\n",
    "\n",
    "class PersonX(yaml.YAMLObject):\n",
    "    yaml_tag = '!PersonX'\n",
    "    yaml_loader = yaml.SafeLoader\n",
    "\n",
    "    def __init__(self, first_name, last_name):\n",
    "        self.first_name = first_name\n",
    "        self.last_name = last_name\n",
    "\n",
    "    def __repr__(self):\n",
    "        return f'{type(self).__name__}({self.first_name}, {self.last_name})'"
   ]
  },
  {
   "cell_type": "code",
   "execution_count": 4,
   "metadata": {},
   "outputs": [
    {
     "data": {
      "text/plain": [
       "Person(first_name='V', last_name='K')"
      ]
     },
     "execution_count": 4,
     "metadata": {},
     "output_type": "execute_result"
    }
   ],
   "source": [
    "(person := Person('V', 'K'))"
   ]
  },
  {
   "cell_type": "code",
   "execution_count": 5,
   "metadata": {},
   "outputs": [
    {
     "data": {
      "text/plain": [
       "PersonX(VX, KX)"
      ]
     },
     "execution_count": 5,
     "metadata": {},
     "output_type": "execute_result"
    }
   ],
   "source": [
    "(person_x := PersonX('VX', 'KX'))"
   ]
  },
  {
   "cell_type": "markdown",
   "metadata": {},
   "source": [
    "# Сериализация (dump)"
   ]
  },
  {
   "cell_type": "code",
   "execution_count": 6,
   "metadata": {},
   "outputs": [
    {
     "data": {
      "text/plain": [
       "('!!python/object:__main__.Person\\nfirst_name: V\\nlast_name: K\\n',\n",
       " '!PersonX\\nfirst_name: VX\\nlast_name: KX\\n')"
      ]
     },
     "execution_count": 6,
     "metadata": {},
     "output_type": "execute_result"
    }
   ],
   "source": [
    "yaml.dump(person), yaml.dump(person_x)"
   ]
  },
  {
   "cell_type": "code",
   "execution_count": 7,
   "metadata": {},
   "outputs": [
    {
     "name": "stdout",
     "output_type": "stream",
     "text": [
      "('cannot represent an object', Person(first_name='V', last_name='K'))\n"
     ]
    }
   ],
   "source": [
    "try:\n",
    "    yaml.safe_dump(person)\n",
    "except yaml.YAMLError as e:\n",
    "    print(e)"
   ]
  },
  {
   "cell_type": "markdown",
   "metadata": {},
   "source": [
    "# Десериализация (load)"
   ]
  },
  {
   "cell_type": "code",
   "execution_count": 8,
   "metadata": {},
   "outputs": [],
   "source": [
    "s = \"\"\"\n",
    "    !!python/object:__main__.Person\n",
    "    first_name: V\n",
    "    last_name: K\n",
    "\"\"\"\n",
    "\n",
    "s_x = \"\"\"\n",
    "    !PersonX\n",
    "    first_name: V\n",
    "    last_name: K\n",
    "\"\"\""
   ]
  },
  {
   "cell_type": "code",
   "execution_count": 9,
   "metadata": {},
   "outputs": [
    {
     "data": {
      "text/plain": [
       "(Person(first_name='V', last_name='K'), Person(first_name='V', last_name='K'))"
      ]
     },
     "execution_count": 9,
     "metadata": {},
     "output_type": "execute_result"
    }
   ],
   "source": [
    "yaml.unsafe_load(s), yaml.load(s, Loader=yaml.UnsafeLoader)"
   ]
  },
  {
   "cell_type": "code",
   "execution_count": 10,
   "metadata": {},
   "outputs": [
    {
     "name": "stdout",
     "output_type": "stream",
     "text": [
      "could not determine a constructor for the tag '!PersonX'\n",
      "  in \"<unicode string>\", line 2, column 5:\n",
      "        !PersonX\n",
      "        ^\n"
     ]
    }
   ],
   "source": [
    "try:\n",
    "    yaml.unsafe_load(s_x)\n",
    "except yaml.YAMLError as e:\n",
    "    print(e)"
   ]
  },
  {
   "cell_type": "code",
   "execution_count": 11,
   "metadata": {},
   "outputs": [
    {
     "name": "stdout",
     "output_type": "stream",
     "text": [
      "could not determine a constructor for the tag 'tag:yaml.org,2002:python/object:__main__.Person'\n",
      "  in \"<unicode string>\", line 2, column 5:\n",
      "        !!python/object:__main__.Person\n",
      "        ^\n"
     ]
    }
   ],
   "source": [
    "try:\n",
    "    yaml.safe_load(s)\n",
    "except yaml.YAMLError as e:\n",
    "    print(e)"
   ]
  },
  {
   "cell_type": "markdown",
   "metadata": {},
   "source": [
    "A python object can be marked as safe and thus be recognized by `yaml.safe_load`.\n",
    "\n",
    "To do this, derive it from `yaml.YAMLObject` (as explained in section Constructors, representers, resolvers) and\n",
    "explicitly set its class property `yaml_loader` to `yaml.SafeLoader`."
   ]
  },
  {
   "cell_type": "code",
   "execution_count": 12,
   "metadata": {},
   "outputs": [
    {
     "data": {
      "text/plain": [
       "PersonX(V, K)"
      ]
     },
     "execution_count": 12,
     "metadata": {},
     "output_type": "execute_result"
    }
   ],
   "source": [
    "yaml.safe_load(s_x)"
   ]
  },
  {
   "cell_type": "markdown",
   "metadata": {},
   "source": [
    "# Constructors, representers, resolvers\n",
    "\n",
    "`yaml.YAMLObject` uses metaclass magic to register a constructor, which transforms a YAML node to a class instance, and a representer, which serializes a class instance to a YAML node.\n",
    "\n",
    "If you don’t want to use metaclasses, you may register your constructors and representers using the functions `yaml.add_constructor` and `yaml.add_representer`.\n",
    "\n",
    "You might not want to specify the tag !dice everywhere. There is a way to teach PyYAML that any untagged plain scalar which looks like XdY has the implicit tag !dice. Use `add_implicit_resolver`."
   ]
  },
  {
   "cell_type": "code",
   "execution_count": 13,
   "metadata": {},
   "outputs": [
    {
     "data": {
      "text/plain": [
       "{'name': 'MyBusiness',\n",
       " 'locations': ['Hawaii', 'India', 'Japan'],\n",
       " 'employees': [Employee(id=1, name='Matthew Burruss'),\n",
       "  Employee(id=2, name='John Doe')]}"
      ]
     },
     "execution_count": 13,
     "metadata": {},
     "output_type": "execute_result"
    }
   ],
   "source": [
    "@dataclass\n",
    "class Employee:\n",
    "  \"\"\"Employee class.\"\"\"\n",
    "  id: int\n",
    "  name: str\n",
    "\n",
    "\n",
    "def employee_constructor(loader: yaml.SafeLoader, node: yaml.nodes.MappingNode) -> Employee:\n",
    "  \"\"\"Construct an employee.\"\"\"\n",
    "  return Employee(**loader.construct_mapping(node))\n",
    "\n",
    "def employee_representer(dumper: yaml.SafeDumper, emp: Employee) -> yaml.nodes.MappingNode:\n",
    "  \"\"\"Represent an employee instance as a YAML mapping node.\"\"\"\n",
    "  return dumper.represent_mapping('!Employee', {\n",
    "    'name': emp.name,\n",
    "    'id': emp.id,\n",
    "  })\n",
    "\n",
    "\n",
    "def get_loader():\n",
    "  \"\"\"Add constructors to PyYAML loader.\"\"\"\n",
    "  loader = yaml.SafeLoader\n",
    "  loader.add_constructor('!Employee', employee_constructor)\n",
    "  return loader\n",
    "\n",
    "def get_dumper():\n",
    "  \"\"\"Add representers to a YAML seriailizer.\"\"\"\n",
    "  safe_dumper = yaml.SafeDumper\n",
    "  safe_dumper.add_representer(Employee, employee_representer)\n",
    "  return safe_dumper\n",
    "\n",
    "d = \"\"\"\n",
    "    name: MyBusiness\n",
    "    locations:\n",
    "    - Hawaii\n",
    "    - India\n",
    "    - Japan\n",
    "    employees:\n",
    "    - !Employee\n",
    "        name: Matthew Burruss\n",
    "        id: 1\n",
    "    - !Employee\n",
    "        name: John Doe\n",
    "        id: 2\n",
    "\"\"\"\n",
    "yaml.load(d, Loader=get_loader())\n"
   ]
  },
  {
   "cell_type": "code",
   "execution_count": 14,
   "metadata": {},
   "outputs": [
    {
     "data": {
      "text/plain": [
       "yaml.loader.SafeLoader"
      ]
     },
     "execution_count": 14,
     "metadata": {},
     "output_type": "execute_result"
    }
   ],
   "source": [
    "yaml.SafeLoader"
   ]
  },
  {
   "cell_type": "code",
   "execution_count": 15,
   "metadata": {},
   "outputs": [
    {
     "data": {
      "text/plain": [
       "'- !Employee\\n  id: 1\\n  name: Ivan\\n- !Employee\\n  id: 2\\n  name: Mike\\n'"
      ]
     },
     "execution_count": 15,
     "metadata": {},
     "output_type": "execute_result"
    }
   ],
   "source": [
    "yaml.dump([Employee(1, 'Ivan'), Employee(2, 'Mike')], Dumper=get_dumper())"
   ]
  }
 ],
 "metadata": {
  "kernelspec": {
   "display_name": "Python 3.10.4 ('pythonista-VO_1mNSx-py3.10')",
   "language": "python",
   "name": "python3"
  },
  "language_info": {
   "codemirror_mode": {
    "name": "ipython",
    "version": 3
   },
   "file_extension": ".py",
   "mimetype": "text/x-python",
   "name": "python",
   "nbconvert_exporter": "python",
   "pygments_lexer": "ipython3",
   "version": "3.10.4"
  },
  "orig_nbformat": 4,
  "vscode": {
   "interpreter": {
    "hash": "13feef28c11d17301e1dcc47b3a524333952f1cd4cd0d95479f68c7bbc83c133"
   }
  }
 },
 "nbformat": 4,
 "nbformat_minor": 2
}
