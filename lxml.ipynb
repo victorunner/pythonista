{
 "cells": [
  {
   "cell_type": "markdown",
   "metadata": {},
   "source": [
    "## Материалы"
   ]
  },
  {
   "cell_type": "markdown",
   "metadata": {},
   "source": [
    "https://lxml.de/"
   ]
  },
  {
   "cell_type": "markdown",
   "metadata": {},
   "source": [
    "## import"
   ]
  },
  {
   "cell_type": "code",
   "execution_count": 1,
   "metadata": {},
   "outputs": [],
   "source": [
    "from lxml import etree"
   ]
  },
  {
   "cell_type": "markdown",
   "metadata": {},
   "source": [
    "## Парсер"
   ]
  },
  {
   "cell_type": "markdown",
   "metadata": {},
   "source": [
    "```\n",
    "help(etree.XMLParser) =>\n",
    "\n",
    "`ns_clean` - try to clean up redundant namespace declarations\n",
    "`recover` - try hard to parse through broken XML\n",
    "`remove_blank_text` - discard blank text nodes between tags, also known as ignorable whitespace\n",
    "`remove_comments` - discard comments\n",
    "`remove_pis` - discard processing instructions\n",
    "`strip_cdata` - replace CDATA sections by normal text content (on by default)\n",
    "`resolve_entities` - replace entities by their text value (on by default)\n",
    "```"
   ]
  },
  {
   "cell_type": "code",
   "execution_count": 2,
   "metadata": {},
   "outputs": [],
   "source": [
    "parser = etree.XMLParser(ns_clean=True, recover=True, remove_blank_text=True)  #, remove_comments=True)\n",
    "parser_blank = etree.XMLParser(ns_clean=True, recover=True, remove_blank_text=False)"
   ]
  },
  {
   "cell_type": "code",
   "execution_count": 3,
   "metadata": {},
   "outputs": [],
   "source": [
    "xml = '''\\\n",
    "<?xml version=\"1.0\" encoding=\"UTF-8\"?>\n",
    "<a xmlns:abc=\"http://www.abc.ru\" xmlns:unused=\"http://www.unused.ru\" xmlns=\"http://www.default.ru\">\n",
    "    <!--Comment-->\n",
    "    <abc:g>1</abc:g>\n",
    "    <abc:g>2</abc:g>\n",
    "    <abc:g>3</abc:g>\n",
    "    <h>1</h>\n",
    "    <xyz:s xmlns:xyz=\"http:/www.xyz.ru\">100<br/>200</xyz:s>\n",
    "    <ss>\n",
    "        <!--Comment for ss-->\n",
    "        100\n",
    "    </ss>\n",
    "</a>\n",
    "'''\n",
    "\n"
   ]
  },
  {
   "cell_type": "code",
   "execution_count": 4,
   "metadata": {},
   "outputs": [],
   "source": [
    "def parse(xml, parser):\n",
    "    try:\n",
    "        try:\n",
    "            root = etree.XML(xml, parser)\n",
    "            return root\n",
    "        except ValueError:\n",
    "            # <?xml version=\"1.0\" encoding=\"UTF-8\"?>\n",
    "            # =>\n",
    "            # ValueError: Unicode strings with encoding declaration are not supported. Please use bytes input or XML fragments without declaration.\n",
    "            root = etree.XML(xml.encode(encoding='utf-8'), parser)\n",
    "            return root\n",
    "    except etree.XMLSyntaxError:\n",
    "        print(len(parser.error_log))\n",
    "        for error in parser.error_log:\n",
    "            print(error.message, error.line, error.column)\n",
    "        raise"
   ]
  },
  {
   "cell_type": "markdown",
   "metadata": {},
   "source": [
    "## Пробелы между тэгами"
   ]
  },
  {
   "cell_type": "code",
   "execution_count": 5,
   "metadata": {},
   "outputs": [],
   "source": [
    "xml_blank = '''\\\n",
    "<?xml version=\"1.0\" encoding=\"UTF-8\"?>\n",
    "<a xmlns=\"http://www.default.ru\">\n",
    "    <h> <div>123<b>bold</b>456</div></h>\n",
    "</a>\n",
    "'''\n",
    "\n",
    "root_blank = parse(xml_blank, parser_blank)\n",
    "\n",
    "h = root_blank[0]\n",
    "assert h.text == ' '"
   ]
  },
  {
   "cell_type": "markdown",
   "metadata": {},
   "source": [
    "## Inner xml\n",
    "\n",
    "The two properties `.text` and `.tail` are enough to represent any text content in an XML document."
   ]
  },
  {
   "cell_type": "code",
   "execution_count": 6,
   "metadata": {},
   "outputs": [],
   "source": [
    "div = h[0]\n",
    "assert etree.QName(div).localname == 'div'"
   ]
  },
  {
   "cell_type": "code",
   "execution_count": 7,
   "metadata": {},
   "outputs": [
    {
     "data": {
      "text/plain": [
       "'123'"
      ]
     },
     "execution_count": 7,
     "metadata": {},
     "output_type": "execute_result"
    }
   ],
   "source": [
    "div.text"
   ]
  },
  {
   "cell_type": "code",
   "execution_count": 8,
   "metadata": {},
   "outputs": [
    {
     "data": {
      "text/plain": [
       "('{http://www.default.ru}b', 'bold')"
      ]
     },
     "execution_count": 8,
     "metadata": {},
     "output_type": "execute_result"
    }
   ],
   "source": [
    "b = div[0]\n",
    "b.tag, b.text"
   ]
  },
  {
   "cell_type": "code",
   "execution_count": 9,
   "metadata": {},
   "outputs": [
    {
     "data": {
      "text/plain": [
       "'456'"
      ]
     },
     "execution_count": 9,
     "metadata": {},
     "output_type": "execute_result"
    }
   ],
   "source": [
    "b.tail"
   ]
  },
  {
   "cell_type": "code",
   "execution_count": 10,
   "metadata": {},
   "outputs": [
    {
     "data": {
      "text/plain": [
       "b'<b xmlns=\"http://www.default.ru\">bold</b>456'"
      ]
     },
     "execution_count": 10,
     "metadata": {},
     "output_type": "execute_result"
    }
   ],
   "source": [
    "etree.tostring(b)  # с \"хвостом\""
   ]
  },
  {
   "cell_type": "code",
   "execution_count": 11,
   "metadata": {},
   "outputs": [
    {
     "data": {
      "text/plain": [
       "b'<b xmlns=\"http://www.default.ru\">bold</b>'"
      ]
     },
     "execution_count": 11,
     "metadata": {},
     "output_type": "execute_result"
    }
   ],
   "source": [
    "etree.tostring(b, with_tail=False)  # без \"хвоста\""
   ]
  },
  {
   "cell_type": "code",
   "execution_count": 12,
   "metadata": {},
   "outputs": [
    {
     "data": {
      "text/plain": [
       "'<div xmlns=\"http://www.default.ru\">123<b>bold</b>456</div>'"
      ]
     },
     "execution_count": 12,
     "metadata": {},
     "output_type": "execute_result"
    }
   ],
   "source": [
    "etree.tostring(div, encoding='unicode')"
   ]
  },
  {
   "cell_type": "code",
   "execution_count": 13,
   "metadata": {},
   "outputs": [
    {
     "data": {
      "text/plain": [
       "'123bold456'"
      ]
     },
     "execution_count": 13,
     "metadata": {},
     "output_type": "execute_result"
    }
   ],
   "source": [
    "etree.tostring(div, method='text', encoding='unicode')  # only the text, without any intermediate tags,"
   ]
  },
  {
   "cell_type": "code",
   "execution_count": 14,
   "metadata": {},
   "outputs": [
    {
     "data": {
      "text/plain": [
       "'123<b xmlns=\"http://www.default.ru\">bold</b>456'"
      ]
     },
     "execution_count": 14,
     "metadata": {},
     "output_type": "execute_result"
    }
   ],
   "source": [
    "# Избавляемся от внешних тэгов\n",
    "(div.text or '') + ''.join(etree.tostring(e, encoding='unicode') for e in div.iterdescendants())"
   ]
  },
  {
   "cell_type": "code",
   "execution_count": 15,
   "metadata": {},
   "outputs": [],
   "source": [
    "def convert_element_to_str(element: etree._Element, *, only_inner_xml: bool = False) -> str:\n",
    "    if only_inner_xml:\n",
    "        return (element.text or '') + ''.join(etree.tostring(el, encoding='unicode') for el in element.iterdescendants())\n",
    "    return etree.tostring(element, encoding='unicode')"
   ]
  },
  {
   "cell_type": "code",
   "execution_count": 16,
   "metadata": {},
   "outputs": [
    {
     "data": {
      "text/plain": [
       "'<div xmlns=\"http://www.default.ru\">123<b>bold</b>456</div>'"
      ]
     },
     "execution_count": 16,
     "metadata": {},
     "output_type": "execute_result"
    }
   ],
   "source": [
    "convert_element_to_str(div)"
   ]
  },
  {
   "cell_type": "code",
   "execution_count": 17,
   "metadata": {},
   "outputs": [
    {
     "data": {
      "text/plain": [
       "'123<b xmlns=\"http://www.default.ru\">bold</b>456'"
      ]
     },
     "execution_count": 17,
     "metadata": {},
     "output_type": "execute_result"
    }
   ],
   "source": [
    "convert_element_to_str(div, only_inner_xml=True)"
   ]
  },
  {
   "cell_type": "markdown",
   "metadata": {},
   "source": [
    "## Cleanup unused namespace declarations"
   ]
  },
  {
   "cell_type": "code",
   "execution_count": 18,
   "metadata": {},
   "outputs": [
    {
     "data": {
      "text/plain": [
       "<Element {http://www.default.ru}a at 0x7f90bc45d640>"
      ]
     },
     "execution_count": 18,
     "metadata": {},
     "output_type": "execute_result"
    }
   ],
   "source": [
    "root = parse(xml, parser)\n",
    "root"
   ]
  },
  {
   "cell_type": "code",
   "execution_count": 19,
   "metadata": {},
   "outputs": [
    {
     "data": {
      "text/plain": [
       "'<a xmlns:abc=\"http://www.abc.ru\" xmlns:unused=\"http://www.unused.ru\" xmlns=\"http://www.default.ru\"><!--Comment--><abc:g>1</abc:g><abc:g>2</abc:g><abc:g>3</abc:g><h>1</h><xyz:s xmlns:xyz=\"http:/www.xyz.ru\">100<br/>200</xyz:s><ss><!--Comment for ss-->\\n        100\\n    </ss></a>'"
      ]
     },
     "execution_count": 19,
     "metadata": {},
     "output_type": "execute_result"
    }
   ],
   "source": [
    "s = etree.tostring(root, encoding='unicode')\n",
    "s"
   ]
  },
  {
   "cell_type": "code",
   "execution_count": 20,
   "metadata": {},
   "outputs": [],
   "source": [
    "assert 'www.unused.ru' in s  # присутствует!"
   ]
  },
  {
   "cell_type": "code",
   "execution_count": 21,
   "metadata": {},
   "outputs": [],
   "source": [
    "etree.cleanup_namespaces(root)"
   ]
  },
  {
   "cell_type": "code",
   "execution_count": 22,
   "metadata": {},
   "outputs": [
    {
     "data": {
      "text/plain": [
       "'<a xmlns:abc=\"http://www.abc.ru\" xmlns=\"http://www.default.ru\"><!--Comment--><abc:g>1</abc:g><abc:g>2</abc:g><abc:g>3</abc:g><h>1</h><xyz:s xmlns:xyz=\"http:/www.xyz.ru\">100<br/>200</xyz:s><ss><!--Comment for ss-->\\n        100\\n    </ss></a>'"
      ]
     },
     "execution_count": 22,
     "metadata": {},
     "output_type": "execute_result"
    }
   ],
   "source": [
    "s = etree.tostring(root, encoding='unicode')\n",
    "s"
   ]
  },
  {
   "cell_type": "code",
   "execution_count": 23,
   "metadata": {},
   "outputs": [],
   "source": [
    "assert 'unused' not in s  # отсутствует!"
   ]
  },
  {
   "cell_type": "markdown",
   "metadata": {},
   "source": [
    "Повторим то же самое с деревом."
   ]
  },
  {
   "cell_type": "code",
   "execution_count": 24,
   "metadata": {},
   "outputs": [
    {
     "data": {
      "text/plain": [
       "['getroottree']"
      ]
     },
     "execution_count": 24,
     "metadata": {},
     "output_type": "execute_result"
    }
   ],
   "source": [
    "[i for i in dir(root) if 'tree' in i]"
   ]
  },
  {
   "cell_type": "code",
   "execution_count": 25,
   "metadata": {},
   "outputs": [],
   "source": [
    "root = parse(xml, parser)\n",
    "tree = root.getroottree()\n",
    "etree.cleanup_namespaces(tree)"
   ]
  },
  {
   "cell_type": "code",
   "execution_count": 26,
   "metadata": {},
   "outputs": [],
   "source": [
    "s = etree.tostring(tree, encoding='unicode')\n",
    "assert 'www.unused.ru' not in s  # тот же результат!"
   ]
  },
  {
   "cell_type": "markdown",
   "metadata": {},
   "source": [
    "Экспериментально выяснил, что `etree.cleanup_namespaces(element)` оставляет контекст namespace-ов для элемента `element`,\n",
    "который мы хотим преобразовать в строку посредством `etree.tostring(element)`. Это происходит даже если\n",
    "в данном элементе и ниже они не используются. Используй `deepcopy`."
   ]
  },
  {
   "cell_type": "markdown",
   "metadata": {},
   "source": [
    "## Итерация по дереву"
   ]
  },
  {
   "cell_type": "markdown",
   "metadata": {},
   "source": [
    "Важная особенность!\n",
    "\n",
    "```\n",
    "root[0] = root[-1]  # this moves the element in lxml.etree!\n",
    "\n",
    "# If you want to copy an element to a different position in `lxml.etree`,\n",
    "# consider creating an independent deep copy using the copy module from Python's standard library:\n",
    "\n",
    "from copy import deepcopy\n",
    "\n",
    "element = etree.Element('neu')\n",
    "element.append( deepcopy(root[1]))\n",
    "```"
   ]
  },
  {
   "cell_type": "code",
   "execution_count": 27,
   "metadata": {},
   "outputs": [],
   "source": [
    "root = parse(xml, parser)"
   ]
  },
  {
   "cell_type": "markdown",
   "metadata": {},
   "source": [
    "`lxml.etree` allows you to look up the current namespaces defined for a node through the `.nsmap` property.\n",
    "\n",
    "Note, however, that this includes **all prefixes** known in the context of an `Element`, not only those that it defines itself."
   ]
  },
  {
   "cell_type": "markdown",
   "metadata": {},
   "source": [
    "### Не видите? А дочерний элемент есть!"
   ]
  },
  {
   "cell_type": "code",
   "execution_count": 28,
   "metadata": {},
   "outputs": [
    {
     "data": {
      "text/plain": [
       "('{http:/www.xyz.ru}s', '100')"
      ]
     },
     "execution_count": 28,
     "metadata": {},
     "output_type": "execute_result"
    }
   ],
   "source": [
    "# Существует дочерний элемент у `s_node`!\n",
    "s_node = root[5]\n",
    "s_node.tag, s_node.text"
   ]
  },
  {
   "cell_type": "code",
   "execution_count": 29,
   "metadata": {},
   "outputs": [],
   "source": [
    "assert len(s_node) == 1"
   ]
  },
  {
   "cell_type": "code",
   "execution_count": 30,
   "metadata": {},
   "outputs": [
    {
     "data": {
      "text/plain": [
       "(<Element {http://www.default.ru}br at 0x7f90bc45e5c0>,\n",
       " '{http://www.default.ru}br',\n",
       " None,\n",
       " '200')"
      ]
     },
     "execution_count": 30,
     "metadata": {},
     "output_type": "execute_result"
    }
   ],
   "source": [
    "child = s_node[0]\n",
    "child, child.tag, child.text, child.tail"
   ]
  },
  {
   "cell_type": "code",
   "execution_count": 31,
   "metadata": {},
   "outputs": [
    {
     "data": {
      "text/plain": [
       "(1, lxml.etree._Comment, 'Comment for ss')"
      ]
     },
     "execution_count": 31,
     "metadata": {},
     "output_type": "execute_result"
    }
   ],
   "source": [
    "# Комментарий также добавляет дочерний элемент!\n",
    "ss_node = root[6]\n",
    "len(ss_node), type(ss_node[0]), ss_node[0].text"
   ]
  },
  {
   "cell_type": "code",
   "execution_count": 32,
   "metadata": {},
   "outputs": [
    {
     "data": {
      "text/plain": [
       "(True, '{http://www.default.ru}ss')"
      ]
     },
     "execution_count": 32,
     "metadata": {},
     "output_type": "execute_result"
    }
   ],
   "source": [
    "comment = ss_node[0]\n",
    "comment.tag is etree.Comment, ss_node.tag"
   ]
  },
  {
   "cell_type": "code",
   "execution_count": 33,
   "metadata": {},
   "outputs": [
    {
     "data": {
      "text/plain": [
       "(lxml.etree._Comment,\n",
       " lxml.etree.__ContentOnlyElement,\n",
       " lxml.etree._Element,\n",
       " object)"
      ]
     },
     "execution_count": 33,
     "metadata": {},
     "output_type": "execute_result"
    }
   ],
   "source": [
    "type(comment).__mro__"
   ]
  },
  {
   "cell_type": "code",
   "execution_count": 34,
   "metadata": {},
   "outputs": [
    {
     "data": {
      "text/plain": [
       "(lxml.etree._Element, object)"
      ]
     },
     "execution_count": 34,
     "metadata": {},
     "output_type": "execute_result"
    }
   ],
   "source": [
    "type(ss_node).__mro__"
   ]
  },
  {
   "cell_type": "code",
   "execution_count": 35,
   "metadata": {},
   "outputs": [
    {
     "data": {
      "text/plain": [
       "<cyfunction Element at 0x7f90bc428110>"
      ]
     },
     "execution_count": 35,
     "metadata": {},
     "output_type": "execute_result"
    }
   ],
   "source": [
    "etree.Element"
   ]
  },
  {
   "cell_type": "code",
   "execution_count": 36,
   "metadata": {},
   "outputs": [
    {
     "name": "stdout",
     "output_type": "stream",
     "text": [
      "---> Usual element ---\n",
      ".tag= {http://www.default.ru}a .text= None .nsmap= {'abc': 'http://www.abc.ru', 'unused': 'http://www.unused.ru', None: 'http://www.default.ru'}\n",
      "{http://www.default.ru}a http://www.default.ru a\n",
      "=>\n",
      "None:a\n",
      "\n",
      "\n",
      "---> Comment, PIS, Entity etc ---\n",
      ".tag= <cyfunction Comment at 0x7f90bc4281e0> .text= Comment .nsmap= {}\n",
      "\n",
      "\n",
      "---> Usual element ---\n",
      ".tag= {http://www.abc.ru}g .text= 1 .nsmap= {'abc': 'http://www.abc.ru', 'unused': 'http://www.unused.ru', None: 'http://www.default.ru'}\n",
      "{http://www.abc.ru}g http://www.abc.ru g\n",
      "=>\n",
      "abc:g\n",
      "\n",
      "\n",
      "---> Usual element ---\n",
      ".tag= {http://www.abc.ru}g .text= 2 .nsmap= {'abc': 'http://www.abc.ru', 'unused': 'http://www.unused.ru', None: 'http://www.default.ru'}\n",
      "{http://www.abc.ru}g http://www.abc.ru g\n",
      "=>\n",
      "abc:g\n",
      "\n",
      "\n",
      "---> Usual element ---\n",
      ".tag= {http://www.abc.ru}g .text= 3 .nsmap= {'abc': 'http://www.abc.ru', 'unused': 'http://www.unused.ru', None: 'http://www.default.ru'}\n",
      "{http://www.abc.ru}g http://www.abc.ru g\n",
      "=>\n",
      "abc:g\n",
      "\n",
      "\n",
      "---> Usual element ---\n",
      ".tag= {http://www.default.ru}h .text= 1 .nsmap= {'abc': 'http://www.abc.ru', 'unused': 'http://www.unused.ru', None: 'http://www.default.ru'}\n",
      "{http://www.default.ru}h http://www.default.ru h\n",
      "=>\n",
      "None:h\n",
      "\n",
      "\n",
      "---> Usual element ---\n",
      ".tag= {http:/www.xyz.ru}s .text= 100 .nsmap= {'xyz': 'http:/www.xyz.ru', 'abc': 'http://www.abc.ru', 'unused': 'http://www.unused.ru', None: 'http://www.default.ru'}\n",
      "{http:/www.xyz.ru}s http:/www.xyz.ru s\n",
      "=>\n",
      "xyz:s\n",
      "\n",
      "\n",
      "---> Usual element ---\n",
      ".tag= {http://www.default.ru}br .text= None .nsmap= {'xyz': 'http:/www.xyz.ru', 'abc': 'http://www.abc.ru', 'unused': 'http://www.unused.ru', None: 'http://www.default.ru'}\n",
      "{http://www.default.ru}br http://www.default.ru br\n",
      "=>\n",
      "None:br\n",
      "\n",
      "\n",
      "---> Usual element ---\n",
      ".tag= {http://www.default.ru}ss .text= None .nsmap= {'abc': 'http://www.abc.ru', 'unused': 'http://www.unused.ru', None: 'http://www.default.ru'}\n",
      "{http://www.default.ru}ss http://www.default.ru ss\n",
      "=>\n",
      "None:ss\n",
      "\n",
      "\n",
      "---> Comment, PIS, Entity etc ---\n",
      ".tag= <cyfunction Comment at 0x7f90bc4281e0> .text= Comment for ss .nsmap= {}\n",
      "\n",
      "\n"
     ]
    }
   ],
   "source": [
    "for element in root.iter():\n",
    "    print('---> Usual element ---' if isinstance(element.tag, str) else '---> Comment, PIS, Entity etc ---')\n",
    "    print(\n",
    "        '.tag=', element.tag,\n",
    "        '.text=', element.text,\n",
    "        '.nsmap=', element.nsmap\n",
    "    )\n",
    "    if isinstance(element.tag, str):\n",
    "        tag = etree.QName(element)\n",
    "        print(tag.text, tag.namespace, tag.localname)\n",
    "        print('=>')\n",
    "        nsmap_inv = {v: k for k, v in element.nsmap.items()}\n",
    "        print(nsmap_inv[tag.namespace], ':', tag.localname, sep='')\n",
    "    print('\\n')"
   ]
  },
  {
   "cell_type": "markdown",
   "metadata": {},
   "source": [
    "## Namespaces"
   ]
  },
  {
   "cell_type": "code",
   "execution_count": 37,
   "metadata": {},
   "outputs": [],
   "source": [
    "xml_data = '''\\\n",
    "<h attr_h=\"attr_h\">\n",
    "    <a xmlns:aixm=\"http://www.aixm.ru\" xmlns=\"http://www.default.ru\">\n",
    "        <aixm:b aixm:attr_b1=\"111\" attr_b2=\"222\">abc</aixm:b>\n",
    "        <aixm:X></aixm:X>\n",
    "        <aixm:Y></aixm:Y>\n",
    "    </a>\n",
    "</h>\n",
    "'''\n",
    "h = etree.fromstring(xml_data)"
   ]
  },
  {
   "cell_type": "code",
   "execution_count": 38,
   "metadata": {},
   "outputs": [
    {
     "data": {
      "text/plain": [
       "('h', None, 'h', {}, {'attr_h': 'attr_h'})"
      ]
     },
     "execution_count": 38,
     "metadata": {},
     "output_type": "execute_result"
    }
   ],
   "source": [
    "hn = etree.QName(h)\n",
    "hn.localname, hn.namespace, hn.text, h.nsmap, h.attrib"
   ]
  },
  {
   "cell_type": "code",
   "execution_count": 39,
   "metadata": {},
   "outputs": [
    {
     "data": {
      "text/plain": [
       "('a',\n",
       " 'http://www.default.ru',\n",
       " '{http://www.default.ru}a',\n",
       " {'aixm': 'http://www.aixm.ru', None: 'http://www.default.ru'},\n",
       " {})"
      ]
     },
     "execution_count": 39,
     "metadata": {},
     "output_type": "execute_result"
    }
   ],
   "source": [
    "a = h[0]\n",
    "an = etree.QName(a)\n",
    "an.localname, an.namespace, an.text, a.nsmap, a.attrib"
   ]
  },
  {
   "cell_type": "code",
   "execution_count": 40,
   "metadata": {},
   "outputs": [
    {
     "data": {
      "text/plain": [
       "('b',\n",
       " 'http://www.aixm.ru',\n",
       " '{http://www.aixm.ru}b',\n",
       " {'aixm': 'http://www.aixm.ru', None: 'http://www.default.ru'},\n",
       " {'{http://www.aixm.ru}attr_b1': '111', 'attr_b2': '222'})"
      ]
     },
     "execution_count": 40,
     "metadata": {},
     "output_type": "execute_result"
    }
   ],
   "source": [
    "b = a[0]\n",
    "bn = etree.QName(b)\n",
    "bn.localname, bn.namespace, bn.text, b.nsmap, b.attrib\n",
    "# Заметьте, что у `attr_b2` нет default namespace!"
   ]
  },
  {
   "cell_type": "code",
   "execution_count": 41,
   "metadata": {},
   "outputs": [],
   "source": [
    "from typing import Optional, Union\n",
    "\n",
    "class QualifiedName:\n",
    "    def __init__(self, element_or_attr: Union[etree._Element, str], /, *, attr_element: Optional[etree._Element] = None) -> None:\n",
    "        if isinstance(element_or_attr, str):\n",
    "            assert attr_element is not None\n",
    "            self._qname = etree.QName(element_or_attr)\n",
    "            self._element = attr_element\n",
    "        else:\n",
    "            self._element = element_or_attr\n",
    "            self._qname = etree.QName(element_or_attr)\n",
    "\n",
    "    @property\n",
    "    def local_name(self) -> str:\n",
    "        return self._qname.localname\n",
    "\n",
    "    @property\n",
    "    def namespace_uri(self) -> Optional[str]:\n",
    "        return self._qname.namespace\n",
    "\n",
    "    @property\n",
    "    def full_name_with_uri(self) -> str:\n",
    "        # full name == qualified name\n",
    "        # James Clark notation: {http://www.w3.org/1999/xhtml}body\n",
    "        return self._qname.text\n",
    "\n",
    "    @property\n",
    "    def full_name_with_prefix(self) -> str:\n",
    "        if self.namespace_prefix is None:\n",
    "            return self.local_name\n",
    "        return f'{self.namespace_prefix}:{self.local_name}'\n",
    "\n",
    "    @property\n",
    "    def namespace_prefix(self) -> Optional[str]:\n",
    "        # элемент вне namespace-а\n",
    "        if self.namespace_uri is None:\n",
    "            return None\n",
    "\n",
    "        # `.nsmap` includes all prefixes known in the context of an Element,\n",
    "        # not only those that it defines itself\n",
    "        for namespace_prefix, namespace_uri in self._element.nsmap.items():\n",
    "            if namespace_uri == self.namespace_uri:\n",
    "                # namespace_prefix == None, если элемент находится в default namespace\n",
    "                return namespace_prefix\n",
    "\n",
    "        # невероятная ошибка, метод должен вернуть раньше\n",
    "        raise RuntimeError('Ошибка получения namespace prefix.')"
   ]
  },
  {
   "cell_type": "code",
   "execution_count": 42,
   "metadata": {},
   "outputs": [
    {
     "name": "stdout",
     "output_type": "stream",
     "text": [
      "aixm:b\n"
     ]
    }
   ],
   "source": [
    "print(QualifiedName(b).full_name_with_prefix)"
   ]
  },
  {
   "cell_type": "code",
   "execution_count": 43,
   "metadata": {},
   "outputs": [
    {
     "name": "stdout",
     "output_type": "stream",
     "text": [
      "h None None h h\n",
      "a http://www.default.ru None {http://www.default.ru}a a\n",
      "b http://www.aixm.ru aixm {http://www.aixm.ru}b aixm:b\n"
     ]
    }
   ],
   "source": [
    "for e in (h, a, b):\n",
    "    en = QualifiedName(e)\n",
    "    print(en.local_name, en.namespace_uri, en.namespace_prefix, en.full_name_with_uri, en.full_name_with_prefix)"
   ]
  },
  {
   "cell_type": "code",
   "execution_count": 44,
   "metadata": {},
   "outputs": [],
   "source": [
    "assert ['h', 'a', 'aixm:b'] == [QualifiedName(e).full_name_with_prefix for e in (h, a, b)]"
   ]
  },
  {
   "cell_type": "code",
   "execution_count": 45,
   "metadata": {},
   "outputs": [
    {
     "data": {
      "text/plain": [
       "{'{http://www.aixm.ru}attr_b1': '111', 'attr_b2': '222'}"
      ]
     },
     "execution_count": 45,
     "metadata": {},
     "output_type": "execute_result"
    }
   ],
   "source": [
    "b.attrib"
   ]
  },
  {
   "cell_type": "code",
   "execution_count": 46,
   "metadata": {},
   "outputs": [
    {
     "name": "stdout",
     "output_type": "stream",
     "text": [
      "aixm:attr_b1\n",
      "attr_b2\n"
     ]
    }
   ],
   "source": [
    "for attr in b.attrib:\n",
    "    print(QualifiedName(attr, attr_element=b).full_name_with_prefix)"
   ]
  },
  {
   "cell_type": "markdown",
   "metadata": {},
   "source": [
    "## br"
   ]
  },
  {
   "cell_type": "code",
   "execution_count": 47,
   "metadata": {},
   "outputs": [
    {
     "data": {
      "text/plain": [
       "<Element a at 0x7f90bc45cac0>"
      ]
     },
     "execution_count": 47,
     "metadata": {},
     "output_type": "execute_result"
    }
   ],
   "source": [
    "xml = '<a>foo<br/>bar</a>'  # <br/> == <br />\n",
    "root = etree.fromstring(xml)\n",
    "root"
   ]
  },
  {
   "cell_type": "code",
   "execution_count": 48,
   "metadata": {},
   "outputs": [
    {
     "data": {
      "text/plain": [
       "('foo', <Element br at 0x7f90bc44fb40>, None, 'bar')"
      ]
     },
     "execution_count": 48,
     "metadata": {},
     "output_type": "execute_result"
    }
   ],
   "source": [
    "root.text, root[0], root[0].text, root[0].tail"
   ]
  },
  {
   "cell_type": "code",
   "execution_count": 49,
   "metadata": {},
   "outputs": [],
   "source": [
    "s = etree.tostring(root, method='html', encoding='unicode')"
   ]
  },
  {
   "cell_type": "code",
   "execution_count": 50,
   "metadata": {},
   "outputs": [],
   "source": [
    "assert '<br>' in s"
   ]
  },
  {
   "cell_type": "code",
   "execution_count": 51,
   "metadata": {},
   "outputs": [
    {
     "data": {
      "text/plain": [
       "b'<a>foo<br/>bar</a>'"
      ]
     },
     "execution_count": 51,
     "metadata": {},
     "output_type": "execute_result"
    }
   ],
   "source": [
    "etree.tostring(root)"
   ]
  },
  {
   "cell_type": "code",
   "execution_count": 52,
   "metadata": {},
   "outputs": [],
   "source": [
    "xml_br = '<a><div>foo<br>bar</div></a>'\n",
    "# root = etree.fromstring(xml)  # -> XMLSyntaxError: Opening and ending tag mismatch: br line 1 and div"
   ]
  },
  {
   "cell_type": "code",
   "execution_count": 53,
   "metadata": {},
   "outputs": [],
   "source": [
    "root = parse(xml_br, parser)  # XMLSyntaxError НЕ возникнет, если `recover=True`"
   ]
  },
  {
   "cell_type": "code",
   "execution_count": 54,
   "metadata": {},
   "outputs": [
    {
     "data": {
      "text/plain": [
       "<Element a at 0x7f90c054ecc0>"
      ]
     },
     "execution_count": 54,
     "metadata": {},
     "output_type": "execute_result"
    }
   ],
   "source": [
    "root"
   ]
  },
  {
   "cell_type": "code",
   "execution_count": 55,
   "metadata": {},
   "outputs": [
    {
     "data": {
      "text/plain": [
       "('foo', <Element br at 0x7f90bc464f00>, 'bar', None)"
      ]
     },
     "execution_count": 55,
     "metadata": {},
     "output_type": "execute_result"
    }
   ],
   "source": [
    "root[0].text, root[0][0], root[0][0].text, root[0][0].tail"
   ]
  },
  {
   "cell_type": "code",
   "execution_count": 56,
   "metadata": {},
   "outputs": [
    {
     "name": "stdout",
     "output_type": "stream",
     "text": [
      "a None\n",
      "div foo\n",
      "br bar\n"
     ]
    }
   ],
   "source": [
    "for e in root.iter():\n",
    "    print(e.tag, e.text)"
   ]
  },
  {
   "cell_type": "code",
   "execution_count": 57,
   "metadata": {},
   "outputs": [
    {
     "data": {
      "text/plain": [
       "b'<a><div>foo<br>bar</br></div></a>'"
      ]
     },
     "execution_count": 57,
     "metadata": {},
     "output_type": "execute_result"
    }
   ],
   "source": [
    "etree.tostring(root)  # repairing"
   ]
  },
  {
   "cell_type": "code",
   "execution_count": 58,
   "metadata": {},
   "outputs": [],
   "source": [
    "\n",
    "# Используем HTML парсер - OK\n",
    "tree = etree.HTML(xml_br)"
   ]
  },
  {
   "cell_type": "code",
   "execution_count": 59,
   "metadata": {},
   "outputs": [
    {
     "data": {
      "text/plain": [
       "b'<html><body><a><div>foo<br/>bar</div></a></body></html>'"
      ]
     },
     "execution_count": 59,
     "metadata": {},
     "output_type": "execute_result"
    }
   ],
   "source": [
    "etree.tostring(tree)"
   ]
  },
  {
   "cell_type": "code",
   "execution_count": 60,
   "metadata": {},
   "outputs": [
    {
     "data": {
      "text/plain": [
       "'<a><div>foobar</div></a>'"
      ]
     },
     "execution_count": 60,
     "metadata": {},
     "output_type": "execute_result"
    }
   ],
   "source": [
    "from lxml.html.clean import Cleaner\n",
    "\n",
    "# Удалим br\n",
    "cleaner = Cleaner(remove_tags=['br'])\n",
    "s = cleaner.clean_html(xml_br)\n",
    "s"
   ]
  },
  {
   "cell_type": "code",
   "execution_count": 61,
   "metadata": {},
   "outputs": [],
   "source": [
    "assert 'foobar' in s"
   ]
  }
 ],
 "metadata": {
  "kernelspec": {
   "display_name": "Python 3.10.4 ('pythonista-VO_1mNSx-py3.10')",
   "language": "python",
   "name": "python3"
  },
  "language_info": {
   "codemirror_mode": {
    "name": "ipython",
    "version": 3
   },
   "file_extension": ".py",
   "mimetype": "text/x-python",
   "name": "python",
   "nbconvert_exporter": "python",
   "pygments_lexer": "ipython3",
   "version": "3.10.4"
  },
  "orig_nbformat": 4,
  "vscode": {
   "interpreter": {
    "hash": "13feef28c11d17301e1dcc47b3a524333952f1cd4cd0d95479f68c7bbc83c133"
   }
  }
 },
 "nbformat": 4,
 "nbformat_minor": 2
}
